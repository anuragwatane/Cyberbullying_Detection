{
  "nbformat": 4,
  "nbformat_minor": 0,
  "metadata": {
    "deepnote_execution_queue": [],
    "deepnote_notebook_id": "68d1c391-99d8-497f-9f80-9db57a647d4a",
    "kernelspec": {
      "display_name": "Python 3",
      "language": "python",
      "name": "python3"
    },
    "language_info": {
      "codemirror_mode": {
        "name": "ipython",
        "version": 3
      },
      "file_extension": ".py",
      "mimetype": "text/x-python",
      "name": "python",
      "nbconvert_exporter": "python",
      "pygments_lexer": "ipython3",
      "version": "3.8.5"
    },
    "colab": {
      "name": "bert-model-on-english-dataset_binary-classes.ipynb",
      "provenance": [],
      "collapsed_sections": []
    },
    "widgets": {
      "application/vnd.jupyter.widget-state+json": {
        "3ad1343dbd494b65ae57d13196de0098": {
          "model_module": "@jupyter-widgets/controls",
          "model_name": "HBoxModel",
          "state": {
            "_view_name": "HBoxView",
            "_dom_classes": [],
            "_model_name": "HBoxModel",
            "_view_module": "@jupyter-widgets/controls",
            "_model_module_version": "1.5.0",
            "_view_count": null,
            "_view_module_version": "1.5.0",
            "box_style": "",
            "layout": "IPY_MODEL_466434a43406410ca64ae1f0e847cc23",
            "_model_module": "@jupyter-widgets/controls",
            "children": [
              "IPY_MODEL_bff1891d7a7b48b8981d2ef90803e568",
              "IPY_MODEL_2b3e6c71301a4029a60f481e64f94727"
            ]
          }
        },
        "466434a43406410ca64ae1f0e847cc23": {
          "model_module": "@jupyter-widgets/base",
          "model_name": "LayoutModel",
          "state": {
            "_view_name": "LayoutView",
            "grid_template_rows": null,
            "right": null,
            "justify_content": null,
            "_view_module": "@jupyter-widgets/base",
            "overflow": null,
            "_model_module_version": "1.2.0",
            "_view_count": null,
            "flex_flow": null,
            "width": null,
            "min_width": null,
            "border": null,
            "align_items": null,
            "bottom": null,
            "_model_module": "@jupyter-widgets/base",
            "top": null,
            "grid_column": null,
            "overflow_y": null,
            "overflow_x": null,
            "grid_auto_flow": null,
            "grid_area": null,
            "grid_template_columns": null,
            "flex": null,
            "_model_name": "LayoutModel",
            "justify_items": null,
            "grid_row": null,
            "max_height": null,
            "align_content": null,
            "visibility": null,
            "align_self": null,
            "height": null,
            "min_height": null,
            "padding": null,
            "grid_auto_rows": null,
            "grid_gap": null,
            "max_width": null,
            "order": null,
            "_view_module_version": "1.2.0",
            "grid_template_areas": null,
            "object_position": null,
            "object_fit": null,
            "grid_auto_columns": null,
            "margin": null,
            "display": null,
            "left": null
          }
        },
        "bff1891d7a7b48b8981d2ef90803e568": {
          "model_module": "@jupyter-widgets/controls",
          "model_name": "FloatProgressModel",
          "state": {
            "_view_name": "ProgressView",
            "style": "IPY_MODEL_8e531f7ed7b24be19c7dd02950b5cf61",
            "_dom_classes": [],
            "description": "Downloading: 100%",
            "_model_name": "FloatProgressModel",
            "bar_style": "success",
            "max": 570,
            "_view_module": "@jupyter-widgets/controls",
            "_model_module_version": "1.5.0",
            "value": 570,
            "_view_count": null,
            "_view_module_version": "1.5.0",
            "orientation": "horizontal",
            "min": 0,
            "description_tooltip": null,
            "_model_module": "@jupyter-widgets/controls",
            "layout": "IPY_MODEL_093eff95caa14cdc9556eed9429db1d1"
          }
        },
        "2b3e6c71301a4029a60f481e64f94727": {
          "model_module": "@jupyter-widgets/controls",
          "model_name": "HTMLModel",
          "state": {
            "_view_name": "HTMLView",
            "style": "IPY_MODEL_cdf56c2be44a4d1f9843377e080bce92",
            "_dom_classes": [],
            "description": "",
            "_model_name": "HTMLModel",
            "placeholder": "​",
            "_view_module": "@jupyter-widgets/controls",
            "_model_module_version": "1.5.0",
            "value": " 570/570 [00:09&lt;00:00, 61.4B/s]",
            "_view_count": null,
            "_view_module_version": "1.5.0",
            "description_tooltip": null,
            "_model_module": "@jupyter-widgets/controls",
            "layout": "IPY_MODEL_d7b1d384e12d4066857212b0f37d4f7c"
          }
        },
        "8e531f7ed7b24be19c7dd02950b5cf61": {
          "model_module": "@jupyter-widgets/controls",
          "model_name": "ProgressStyleModel",
          "state": {
            "_view_name": "StyleView",
            "_model_name": "ProgressStyleModel",
            "description_width": "initial",
            "_view_module": "@jupyter-widgets/base",
            "_model_module_version": "1.5.0",
            "_view_count": null,
            "_view_module_version": "1.2.0",
            "bar_color": null,
            "_model_module": "@jupyter-widgets/controls"
          }
        },
        "093eff95caa14cdc9556eed9429db1d1": {
          "model_module": "@jupyter-widgets/base",
          "model_name": "LayoutModel",
          "state": {
            "_view_name": "LayoutView",
            "grid_template_rows": null,
            "right": null,
            "justify_content": null,
            "_view_module": "@jupyter-widgets/base",
            "overflow": null,
            "_model_module_version": "1.2.0",
            "_view_count": null,
            "flex_flow": null,
            "width": null,
            "min_width": null,
            "border": null,
            "align_items": null,
            "bottom": null,
            "_model_module": "@jupyter-widgets/base",
            "top": null,
            "grid_column": null,
            "overflow_y": null,
            "overflow_x": null,
            "grid_auto_flow": null,
            "grid_area": null,
            "grid_template_columns": null,
            "flex": null,
            "_model_name": "LayoutModel",
            "justify_items": null,
            "grid_row": null,
            "max_height": null,
            "align_content": null,
            "visibility": null,
            "align_self": null,
            "height": null,
            "min_height": null,
            "padding": null,
            "grid_auto_rows": null,
            "grid_gap": null,
            "max_width": null,
            "order": null,
            "_view_module_version": "1.2.0",
            "grid_template_areas": null,
            "object_position": null,
            "object_fit": null,
            "grid_auto_columns": null,
            "margin": null,
            "display": null,
            "left": null
          }
        },
        "cdf56c2be44a4d1f9843377e080bce92": {
          "model_module": "@jupyter-widgets/controls",
          "model_name": "DescriptionStyleModel",
          "state": {
            "_view_name": "StyleView",
            "_model_name": "DescriptionStyleModel",
            "description_width": "",
            "_view_module": "@jupyter-widgets/base",
            "_model_module_version": "1.5.0",
            "_view_count": null,
            "_view_module_version": "1.2.0",
            "_model_module": "@jupyter-widgets/controls"
          }
        },
        "d7b1d384e12d4066857212b0f37d4f7c": {
          "model_module": "@jupyter-widgets/base",
          "model_name": "LayoutModel",
          "state": {
            "_view_name": "LayoutView",
            "grid_template_rows": null,
            "right": null,
            "justify_content": null,
            "_view_module": "@jupyter-widgets/base",
            "overflow": null,
            "_model_module_version": "1.2.0",
            "_view_count": null,
            "flex_flow": null,
            "width": null,
            "min_width": null,
            "border": null,
            "align_items": null,
            "bottom": null,
            "_model_module": "@jupyter-widgets/base",
            "top": null,
            "grid_column": null,
            "overflow_y": null,
            "overflow_x": null,
            "grid_auto_flow": null,
            "grid_area": null,
            "grid_template_columns": null,
            "flex": null,
            "_model_name": "LayoutModel",
            "justify_items": null,
            "grid_row": null,
            "max_height": null,
            "align_content": null,
            "visibility": null,
            "align_self": null,
            "height": null,
            "min_height": null,
            "padding": null,
            "grid_auto_rows": null,
            "grid_gap": null,
            "max_width": null,
            "order": null,
            "_view_module_version": "1.2.0",
            "grid_template_areas": null,
            "object_position": null,
            "object_fit": null,
            "grid_auto_columns": null,
            "margin": null,
            "display": null,
            "left": null
          }
        },
        "bd2e11dcd7a94c6f94c1a121f699748f": {
          "model_module": "@jupyter-widgets/controls",
          "model_name": "HBoxModel",
          "state": {
            "_view_name": "HBoxView",
            "_dom_classes": [],
            "_model_name": "HBoxModel",
            "_view_module": "@jupyter-widgets/controls",
            "_model_module_version": "1.5.0",
            "_view_count": null,
            "_view_module_version": "1.5.0",
            "box_style": "",
            "layout": "IPY_MODEL_34e3c2439ce14e5b8721d02529497516",
            "_model_module": "@jupyter-widgets/controls",
            "children": [
              "IPY_MODEL_5289ad276a8d42f393ea8f8507c49bdf",
              "IPY_MODEL_cab73c1c437d4f2f9801baf70f8ec34a"
            ]
          }
        },
        "34e3c2439ce14e5b8721d02529497516": {
          "model_module": "@jupyter-widgets/base",
          "model_name": "LayoutModel",
          "state": {
            "_view_name": "LayoutView",
            "grid_template_rows": null,
            "right": null,
            "justify_content": null,
            "_view_module": "@jupyter-widgets/base",
            "overflow": null,
            "_model_module_version": "1.2.0",
            "_view_count": null,
            "flex_flow": null,
            "width": null,
            "min_width": null,
            "border": null,
            "align_items": null,
            "bottom": null,
            "_model_module": "@jupyter-widgets/base",
            "top": null,
            "grid_column": null,
            "overflow_y": null,
            "overflow_x": null,
            "grid_auto_flow": null,
            "grid_area": null,
            "grid_template_columns": null,
            "flex": null,
            "_model_name": "LayoutModel",
            "justify_items": null,
            "grid_row": null,
            "max_height": null,
            "align_content": null,
            "visibility": null,
            "align_self": null,
            "height": null,
            "min_height": null,
            "padding": null,
            "grid_auto_rows": null,
            "grid_gap": null,
            "max_width": null,
            "order": null,
            "_view_module_version": "1.2.0",
            "grid_template_areas": null,
            "object_position": null,
            "object_fit": null,
            "grid_auto_columns": null,
            "margin": null,
            "display": null,
            "left": null
          }
        },
        "5289ad276a8d42f393ea8f8507c49bdf": {
          "model_module": "@jupyter-widgets/controls",
          "model_name": "FloatProgressModel",
          "state": {
            "_view_name": "ProgressView",
            "style": "IPY_MODEL_f0482c82b02348509ba5f61512e483f5",
            "_dom_classes": [],
            "description": "Downloading: 100%",
            "_model_name": "FloatProgressModel",
            "bar_style": "success",
            "max": 440473133,
            "_view_module": "@jupyter-widgets/controls",
            "_model_module_version": "1.5.0",
            "value": 440473133,
            "_view_count": null,
            "_view_module_version": "1.5.0",
            "orientation": "horizontal",
            "min": 0,
            "description_tooltip": null,
            "_model_module": "@jupyter-widgets/controls",
            "layout": "IPY_MODEL_f29f2fc6598447d3aa75214702351f55"
          }
        },
        "cab73c1c437d4f2f9801baf70f8ec34a": {
          "model_module": "@jupyter-widgets/controls",
          "model_name": "HTMLModel",
          "state": {
            "_view_name": "HTMLView",
            "style": "IPY_MODEL_6015f676cbc6437bb2cb002e027fd718",
            "_dom_classes": [],
            "description": "",
            "_model_name": "HTMLModel",
            "placeholder": "​",
            "_view_module": "@jupyter-widgets/controls",
            "_model_module_version": "1.5.0",
            "value": " 440M/440M [00:08&lt;00:00, 50.3MB/s]",
            "_view_count": null,
            "_view_module_version": "1.5.0",
            "description_tooltip": null,
            "_model_module": "@jupyter-widgets/controls",
            "layout": "IPY_MODEL_577c96dbbb1246cd82074f1cf534ba24"
          }
        },
        "f0482c82b02348509ba5f61512e483f5": {
          "model_module": "@jupyter-widgets/controls",
          "model_name": "ProgressStyleModel",
          "state": {
            "_view_name": "StyleView",
            "_model_name": "ProgressStyleModel",
            "description_width": "initial",
            "_view_module": "@jupyter-widgets/base",
            "_model_module_version": "1.5.0",
            "_view_count": null,
            "_view_module_version": "1.2.0",
            "bar_color": null,
            "_model_module": "@jupyter-widgets/controls"
          }
        },
        "f29f2fc6598447d3aa75214702351f55": {
          "model_module": "@jupyter-widgets/base",
          "model_name": "LayoutModel",
          "state": {
            "_view_name": "LayoutView",
            "grid_template_rows": null,
            "right": null,
            "justify_content": null,
            "_view_module": "@jupyter-widgets/base",
            "overflow": null,
            "_model_module_version": "1.2.0",
            "_view_count": null,
            "flex_flow": null,
            "width": null,
            "min_width": null,
            "border": null,
            "align_items": null,
            "bottom": null,
            "_model_module": "@jupyter-widgets/base",
            "top": null,
            "grid_column": null,
            "overflow_y": null,
            "overflow_x": null,
            "grid_auto_flow": null,
            "grid_area": null,
            "grid_template_columns": null,
            "flex": null,
            "_model_name": "LayoutModel",
            "justify_items": null,
            "grid_row": null,
            "max_height": null,
            "align_content": null,
            "visibility": null,
            "align_self": null,
            "height": null,
            "min_height": null,
            "padding": null,
            "grid_auto_rows": null,
            "grid_gap": null,
            "max_width": null,
            "order": null,
            "_view_module_version": "1.2.0",
            "grid_template_areas": null,
            "object_position": null,
            "object_fit": null,
            "grid_auto_columns": null,
            "margin": null,
            "display": null,
            "left": null
          }
        },
        "6015f676cbc6437bb2cb002e027fd718": {
          "model_module": "@jupyter-widgets/controls",
          "model_name": "DescriptionStyleModel",
          "state": {
            "_view_name": "StyleView",
            "_model_name": "DescriptionStyleModel",
            "description_width": "",
            "_view_module": "@jupyter-widgets/base",
            "_model_module_version": "1.5.0",
            "_view_count": null,
            "_view_module_version": "1.2.0",
            "_model_module": "@jupyter-widgets/controls"
          }
        },
        "577c96dbbb1246cd82074f1cf534ba24": {
          "model_module": "@jupyter-widgets/base",
          "model_name": "LayoutModel",
          "state": {
            "_view_name": "LayoutView",
            "grid_template_rows": null,
            "right": null,
            "justify_content": null,
            "_view_module": "@jupyter-widgets/base",
            "overflow": null,
            "_model_module_version": "1.2.0",
            "_view_count": null,
            "flex_flow": null,
            "width": null,
            "min_width": null,
            "border": null,
            "align_items": null,
            "bottom": null,
            "_model_module": "@jupyter-widgets/base",
            "top": null,
            "grid_column": null,
            "overflow_y": null,
            "overflow_x": null,
            "grid_auto_flow": null,
            "grid_area": null,
            "grid_template_columns": null,
            "flex": null,
            "_model_name": "LayoutModel",
            "justify_items": null,
            "grid_row": null,
            "max_height": null,
            "align_content": null,
            "visibility": null,
            "align_self": null,
            "height": null,
            "min_height": null,
            "padding": null,
            "grid_auto_rows": null,
            "grid_gap": null,
            "max_width": null,
            "order": null,
            "_view_module_version": "1.2.0",
            "grid_template_areas": null,
            "object_position": null,
            "object_fit": null,
            "grid_auto_columns": null,
            "margin": null,
            "display": null,
            "left": null
          }
        }
      }
    }
  },
  "cells": [
    {
      "cell_type": "code",
      "metadata": {
        "colab": {
          "base_uri": "https://localhost:8080/"
        },
        "id": "i_x2MiA38sb0",
        "outputId": "b75eee9a-1181-4eeb-abac-5563a1706f18"
      },
      "source": [
        "from google.colab import drive\n",
        "drive.mount('/content/drive')"
      ],
      "execution_count": null,
      "outputs": [
        {
          "output_type": "stream",
          "text": [
            "Mounted at /content/drive\n"
          ],
          "name": "stdout"
        }
      ]
    },
    {
      "cell_type": "code",
      "metadata": {
        "cell_id": "13607867-4742-474a-a132-addb5178094d",
        "tags": [],
        "id": "UksEy5Fq7YdW"
      },
      "source": [
        "!pip install nltk\n",
        "!pip install bert-tensorflow\n",
        "!pip install transformers\n",
        "!pip install seaborn\n",
        "!pip install -U sentence-transformers\n",
        "!pip install pytorch-pretrained-bert\n",
        "import nltk\n",
        "nltk.download('punkt')\n",
        "nltk.download('stopwords')\n"
      ],
      "execution_count": null,
      "outputs": []
    },
    {
      "cell_type": "code",
      "metadata": {
        "cell_id": "9a47cf69-bed6-4ad2-a22e-4386431ddeba",
        "tags": [],
        "id": "WRYyV5JM7YdY"
      },
      "source": [
        "# Insert code here.\n",
        "import pandas as pd\n",
        "import numpy as np\n",
        "import random\n",
        "import re\n",
        "import time\n",
        "import datetime\n",
        "import pickle\n",
        "from nltk.corpus import stopwords\n",
        "from nltk.tokenize import sent_tokenize\n",
        "from sklearn import model_selection, preprocessing, linear_model, naive_bayes, metrics, svm, neighbors\n",
        "from sklearn.preprocessing import LabelEncoder\n",
        "\n",
        "from transformers import BertTokenizer\n",
        "tokenizer = BertTokenizer.from_pretrained('bert-base-uncased', do_lower_case=True)\n",
        "\n",
        "import torch\n",
        "from torch.utils.data import TensorDataset, random_split, DataLoader, RandomSampler, SequentialSampler\n",
        "\n",
        "from transformers import BertForSequenceClassification, AdamW, BertConfig\n",
        "from transformers import get_linear_schedule_with_warmup\n",
        "\n",
        "import matplotlib.pyplot as plt\n",
        "import seaborn as sns\n",
        "from sentence_transformers import SentenceTransformer\n",
        "sent_encoder = SentenceTransformer('bert-base-nli-mean-tokens')\n"
      ],
      "execution_count": null,
      "outputs": []
    },
    {
      "cell_type": "code",
      "metadata": {
        "cell_id": "ed86072d-0baf-4960-90f2-1aaa7943c54a",
        "tags": [],
        "colab": {
          "base_uri": "https://localhost:8080/"
        },
        "id": "_UcUyQ1B7YdZ",
        "outputId": "eca11454-58c5-4e8c-9f62-f502eee906b7"
      },
      "source": [
        "# If there's a GPU available...\n",
        "if torch.cuda.is_available():    \n",
        "\n",
        "    # Tell PyTorch to use the GPU.    \n",
        "    device = torch.device(\"cuda\")  # identify and specify the GPU as the device\n",
        "\n",
        "    print('There are %d GPU(s) available.' % torch.cuda.device_count())\n",
        "\n",
        "    print('We will use the GPU:', torch.cuda.get_device_name(0))\n",
        "\n",
        "# If not...\n",
        "else:\n",
        "    print('No GPU available, using the CPU instead.')\n",
        "    device = torch.device(\"cpu\")"
      ],
      "execution_count": null,
      "outputs": [
        {
          "output_type": "stream",
          "text": [
            "No GPU available, using the CPU instead.\n"
          ],
          "name": "stdout"
        }
      ]
    },
    {
      "cell_type": "code",
      "metadata": {
        "cell_id": "9cd08a9a-f2f9-4e71-80eb-056a1b986cbe",
        "tags": [],
        "colab": {
          "base_uri": "https://localhost:8080/"
        },
        "id": "QiS7YtGZ7Yda",
        "outputId": "1f171e8d-1b6e-4d45-c00e-9723762b73e6"
      },
      "source": [
        "torch.cuda.empty_cache()\n",
        "!nvidia-smi"
      ],
      "execution_count": null,
      "outputs": [
        {
          "output_type": "stream",
          "text": [
            "NVIDIA-SMI has failed because it couldn't communicate with the NVIDIA driver. Make sure that the latest NVIDIA driver is installed and running.\n",
            "\n"
          ],
          "name": "stdout"
        }
      ]
    },
    {
      "cell_type": "code",
      "metadata": {
        "cell_id": "b0583ff8-dd94-4ace-996b-1e86e9038285",
        "tags": [],
        "id": "73QpxF7f7Yda"
      },
      "source": [
        "DATASET_PATH = '/content/drive/MyDrive/Colab Notebooks/Hate-Speech-Detection/data/2020_processed_train/en.pickle'\n",
        "MODEL_NAME = '/content/drive/MyDrive/Colab Notebooks/Hate-Speech-Detection/models/task1_model_by_epoch/bert-base-en-task1-epoch-'"
      ],
      "execution_count": null,
      "outputs": []
    },
    {
      "cell_type": "code",
      "metadata": {
        "id": "dGI0XTxP7Ydb"
      },
      "source": [
        "# Load the pickle file\n",
        "with open(DATASET_PATH,'rb') as f:\n",
        "    data = pickle.load(f)"
      ],
      "execution_count": null,
      "outputs": []
    },
    {
      "cell_type": "code",
      "metadata": {
        "id": "OHIp5FyG7Ydb"
      },
      "source": [
        "# create a dataframe using pickle file\n",
        "df = pd.DataFrame.from_dict(data)\n",
        "# df = pd.read_csv(DATASET_PATH)"
      ],
      "execution_count": null,
      "outputs": []
    },
    {
      "cell_type": "code",
      "metadata": {
        "cell_id": "ec9990b7-1c2f-4cb4-b062-a9ae2dd58d7f",
        "tags": [],
        "colab": {
          "base_uri": "https://localhost:8080/",
          "height": 1204
        },
        "id": "4fLQ5n2n7Ydc",
        "outputId": "f7ddab5e-60ce-4e99-93f8-61fa30d8518e"
      },
      "source": [
        "print('Number of training sentences: {:,}\\n'.format(df.shape[0]))\n",
        "\n",
        "%load_ext google.colab.data_table\n",
        "df.sample(10)"
      ],
      "execution_count": null,
      "outputs": [
        {
          "output_type": "stream",
          "text": [
            "Number of training sentences: 3,708\n",
            "\n",
            "The google.colab.data_table extension is already loaded. To reload it, use:\n",
            "  %reload_ext google.colab.data_table\n"
          ],
          "name": "stdout"
        },
        {
          "output_type": "execute_result",
          "data": {
            "application/vnd.google.colaboratory.module+javascript": "\n      import \"https://ssl.gstatic.com/colaboratory/data_table/a6224c040fa35dcf/data_table.js\";\n\n      window.createDataTable({\n        data: [[{\n            'v': 3439,\n            'f': \"3439\",\n        },\n\"1126915725355098112\",\n\"HOF\",\n\"OFFN\",\n\"hasoc_2020_en_4923\",\n\"RT @NoyeluE: When a girl suddenly stop singing while she's bathing...\\nMy brother, just know that she's washing her Iskaba Iskelebete Iskolo\\u2026\",\n\": When a girl suddenly stop singing while she's bathing...My brother, just know that she's washing her Iskaba Iskelebete Iskolo\",\n[],\n[],\n[],\n[],\n[\"@NoyeluE\"],\n[],\n[\"RT\"],\n[],\n[]],\n [{\n            'v': 1067,\n            'f': \"1067\",\n        },\n\"1130255595079180290\",\n\"NOT\",\n\"NONE\",\n\"hasoc_2020_en_233\",\n\"RT @GFFN: Kylian Mbapp\\u00e9 at 20:\\n- 1 x World Cup\\n- 1 x U19 Euros\\n- 3 x Ligue 1\\n- 1 x Coupe de la Ligue\\n- 1 x Coupe de France\\n- 1 x Troph\\u00e9e de\\u2026\",\n\": Kylian Mbapp at :- x World Cup- x U19 Euros- x Ligue - x Coupe de la Ligue- x Coupe de France- x Trophe de\",\n[],\n[],\n[],\n[],\n[\"@GFFN\"],\n[\" 20\", \" 1\", \" 1\", \" 3\", \" 1\", \" 1\", \" 1\", \" 1\"],\n[\"RT\"],\n[],\n[]],\n [{\n            'v': 2468,\n            'f': \"2468\",\n        },\n\"1123657162172059649\",\n\"NOT\",\n\"NONE\",\n\"hasoc_2020_en_88\",\n\"@WB_Baskerville Excellent point. \\n\\nAbove: title page of dissertation of the late Father Victor De Clercq, C.I.C.M.,\\u2026 https://t.co/3DHdQHQKka\",\n\"Excellent point. Above: title page of dissertation of the late Father Victor De Clercq, C.I.C.M.,\",\n[],\n[],\n[],\n[\"https://t.co/3DHdQHQKka\"],\n[\"@WB_Baskerville\"],\n[],\n[],\n[],\n[]],\n [{\n            'v': 1070,\n            'f': \"1070\",\n        },\n\"1123799235852414979\",\n\"HOF\",\n\"PRFN\",\n\"hasoc_2020_en_2987\",\n\"Ah shit mtvs running a little late\",\n\"Ah shit mtvs running a little late\",\n[],\n[],\n[],\n[],\n[],\n[],\n[],\n[],\n[]],\n [{\n            'v': 1156,\n            'f': \"1156\",\n        },\n\"1130032806258593792\",\n\"NOT\",\n\"NONE\",\n\"hasoc_2020_en_4835\",\n\"RT @alamgirizvi: I think it's our responsibility to tell everyone about our PM where doing Meditation \\u26e9\\ud83d\\udcff\\ud83d\\udd49\\ud83d\\udc4c\\n\\nExcellent details about the Mod\\u2026\",\n\": I think it's our responsibility to tell everyone about our PM where doing Meditation Excellent details about the Mod\",\n[],\n[],\n[\"\\u26e9\", \"\\ud83d\\udcff\", \"\\ud83d\\udd49\", \"\\ud83d\\udc4c\"],\n[],\n[\"@alamgirizvi\"],\n[],\n[\"RT\"],\n[\"shinto shrine\", \"prayer beads\", \"om\", \"OK hand\"],\n[]],\n [{\n            'v': 326,\n            'f': \"326\",\n        },\n\"1126912978077540353\",\n\"NOT\",\n\"NONE\",\n\"hasoc_2020_en_4603\",\n\"RT @AphraBrandreth: You don\\u2019t need an excuse to #CelebrateChessington but cakes and face painting are always a bonus https://t.co/uV0NfXFDLz\",\n\": You dont need an excuse to but cakes and face painting are always a bonus\",\n[\"#CelebrateChessington\"],\n[],\n[],\n[\"https://t.co/uV0NfXFDLz\"],\n[\"@AphraBrandreth\"],\n[],\n[\"RT\"],\n[],\n[\"celebrate chessington\"]],\n [{\n            'v': 3199,\n            'f': \"3199\",\n        },\n\"1123498416183631872\",\n\"NOT\",\n\"NONE\",\n\"hasoc_2020_en_5105\",\n\"I don\\u2019t want to say it, but the fact that we could be playing Tranmere in the play offs no matter what happens scar\\u2026 https://t.co/hbffui8Fm1\",\n\"I dont want to say it, but the fact that we could be playing Tranmere in the play offs no matter what happens scar\",\n[],\n[],\n[],\n[\"https://t.co/hbffui8Fm1\"],\n[],\n[],\n[],\n[],\n[]],\n [{\n            'v': 1933,\n            'f': \"1933\",\n        },\n\"1126928568305348608\",\n\"NOT\",\n\"NONE\",\n\"hasoc_2020_en_1884\",\n\"RT @stfuIol: over 7 billion people in this world and you think I'm gonna chase someone who doesn't even want me? hahah\\n\\nthat's exactly what\\u2026\",\n\": over billion people in this world and you think I'm gonna chase someone who doesn't even want me? hahahthat's exactly what\",\n[],\n[],\n[],\n[],\n[\"@stfuIol\"],\n[\" 7\"],\n[\"RT\"],\n[],\n[]],\n [{\n            'v': 836,\n            'f': \"836\",\n        },\n\"1127022029985595392\",\n\"NOT\",\n\"NONE\",\n\"hasoc_2020_en_2158\",\n\"you put the \\\"utu\\\" in OUR \\\"future\\\"\\ud83d\\ude09\\ud83d\\ude02\",\n\"you put the \\\"utu\\\" in OUR \\\"future\\\"\",\n[],\n[],\n[\"\\ud83d\\ude09\", \"\\ud83d\\ude02\"],\n[],\n[],\n[],\n[],\n[\"winking face\", \"face with tears of joy\"],\n[]],\n [{\n            'v': 203,\n            'f': \"203\",\n        },\n\"1130129581434908674\",\n\"HOF\",\n\"OFFN\",\n\"hasoc_2020_en_3890\",\n\"RT @CrypticNoOne: Who's the dumbass that drop kicked Arnold Schwarzenegger?? We need names\\n\\nhttps://t.co/TrEQeTiHi6\",\n\": Who's the dumbass that drop kicked Arnold Schwarzenegger?? We need names\",\n[],\n[],\n[],\n[\"https://t.co/TrEQeTiHi6\"],\n[\"@CrypticNoOne\"],\n[],\n[\"RT\"],\n[],\n[]]],\n        columns: [[\"number\", \"index\"], [\"string\", \"tweet_id\"], [\"string\", \"task_1\"], [\"string\", \"task_2\"], [\"string\", \"hasoc_id\"], [\"string\", \"full_tweet\"], [\"string\", \"tweet_raw_text\"], [\"string\", \"hashtags\"], [\"string\", \"smiley\"], [\"string\", \"emoji\"], [\"string\", \"url\"], [\"string\", \"mentions\"], [\"string\", \"numerals\"], [\"string\", \"reserved_word\"], [\"string\", \"emotext\"], [\"string\", \"segmented_hash\"]],\n        columnOptions: [{\"width\": \"1px\", \"className\": \"index_column\"}],\n        rowsPerPage: 25,\n        helpUrl: \"https://colab.research.google.com/notebooks/data_table.ipynb\",\n        suppressOutputScrolling: true,\n        minimumWidth: undefined,\n      });\n    ",
            "text/html": [
              "<div>\n",
              "<style scoped>\n",
              "    .dataframe tbody tr th:only-of-type {\n",
              "        vertical-align: middle;\n",
              "    }\n",
              "\n",
              "    .dataframe tbody tr th {\n",
              "        vertical-align: top;\n",
              "    }\n",
              "\n",
              "    .dataframe thead th {\n",
              "        text-align: right;\n",
              "    }\n",
              "</style>\n",
              "<table border=\"1\" class=\"dataframe\">\n",
              "  <thead>\n",
              "    <tr style=\"text-align: right;\">\n",
              "      <th></th>\n",
              "      <th>tweet_id</th>\n",
              "      <th>task_1</th>\n",
              "      <th>task_2</th>\n",
              "      <th>hasoc_id</th>\n",
              "      <th>full_tweet</th>\n",
              "      <th>tweet_raw_text</th>\n",
              "      <th>hashtags</th>\n",
              "      <th>smiley</th>\n",
              "      <th>emoji</th>\n",
              "      <th>url</th>\n",
              "      <th>mentions</th>\n",
              "      <th>numerals</th>\n",
              "      <th>reserved_word</th>\n",
              "      <th>emotext</th>\n",
              "      <th>segmented_hash</th>\n",
              "    </tr>\n",
              "  </thead>\n",
              "  <tbody>\n",
              "    <tr>\n",
              "      <th>3439</th>\n",
              "      <td>1126915725355098112</td>\n",
              "      <td>HOF</td>\n",
              "      <td>OFFN</td>\n",
              "      <td>hasoc_2020_en_4923</td>\n",
              "      <td>RT @NoyeluE: When a girl suddenly stop singing...</td>\n",
              "      <td>: When a girl suddenly stop singing while she'...</td>\n",
              "      <td>[]</td>\n",
              "      <td>[]</td>\n",
              "      <td>[]</td>\n",
              "      <td>[]</td>\n",
              "      <td>[@NoyeluE]</td>\n",
              "      <td>[]</td>\n",
              "      <td>[RT]</td>\n",
              "      <td>[]</td>\n",
              "      <td>[]</td>\n",
              "    </tr>\n",
              "    <tr>\n",
              "      <th>1067</th>\n",
              "      <td>1130255595079180290</td>\n",
              "      <td>NOT</td>\n",
              "      <td>NONE</td>\n",
              "      <td>hasoc_2020_en_233</td>\n",
              "      <td>RT @GFFN: Kylian Mbappé at 20:\\n- 1 x World Cu...</td>\n",
              "      <td>: Kylian Mbapp at :- x World Cup- x U19 Euros-...</td>\n",
              "      <td>[]</td>\n",
              "      <td>[]</td>\n",
              "      <td>[]</td>\n",
              "      <td>[]</td>\n",
              "      <td>[@GFFN]</td>\n",
              "      <td>[ 20,  1,  1,  3,  1,  1,  1,  1]</td>\n",
              "      <td>[RT]</td>\n",
              "      <td>[]</td>\n",
              "      <td>[]</td>\n",
              "    </tr>\n",
              "    <tr>\n",
              "      <th>2468</th>\n",
              "      <td>1123657162172059649</td>\n",
              "      <td>NOT</td>\n",
              "      <td>NONE</td>\n",
              "      <td>hasoc_2020_en_88</td>\n",
              "      <td>@WB_Baskerville Excellent point. \\n\\nAbove: ti...</td>\n",
              "      <td>Excellent point. Above: title page of disserta...</td>\n",
              "      <td>[]</td>\n",
              "      <td>[]</td>\n",
              "      <td>[]</td>\n",
              "      <td>[https://t.co/3DHdQHQKka]</td>\n",
              "      <td>[@WB_Baskerville]</td>\n",
              "      <td>[]</td>\n",
              "      <td>[]</td>\n",
              "      <td>[]</td>\n",
              "      <td>[]</td>\n",
              "    </tr>\n",
              "    <tr>\n",
              "      <th>1070</th>\n",
              "      <td>1123799235852414979</td>\n",
              "      <td>HOF</td>\n",
              "      <td>PRFN</td>\n",
              "      <td>hasoc_2020_en_2987</td>\n",
              "      <td>Ah shit mtvs running a little late</td>\n",
              "      <td>Ah shit mtvs running a little late</td>\n",
              "      <td>[]</td>\n",
              "      <td>[]</td>\n",
              "      <td>[]</td>\n",
              "      <td>[]</td>\n",
              "      <td>[]</td>\n",
              "      <td>[]</td>\n",
              "      <td>[]</td>\n",
              "      <td>[]</td>\n",
              "      <td>[]</td>\n",
              "    </tr>\n",
              "    <tr>\n",
              "      <th>1156</th>\n",
              "      <td>1130032806258593792</td>\n",
              "      <td>NOT</td>\n",
              "      <td>NONE</td>\n",
              "      <td>hasoc_2020_en_4835</td>\n",
              "      <td>RT @alamgirizvi: I think it's our responsibili...</td>\n",
              "      <td>: I think it's our responsibility to tell ever...</td>\n",
              "      <td>[]</td>\n",
              "      <td>[]</td>\n",
              "      <td>[⛩, 📿, 🕉, 👌]</td>\n",
              "      <td>[]</td>\n",
              "      <td>[@alamgirizvi]</td>\n",
              "      <td>[]</td>\n",
              "      <td>[RT]</td>\n",
              "      <td>[shinto shrine, prayer beads, om, OK hand]</td>\n",
              "      <td>[]</td>\n",
              "    </tr>\n",
              "    <tr>\n",
              "      <th>326</th>\n",
              "      <td>1126912978077540353</td>\n",
              "      <td>NOT</td>\n",
              "      <td>NONE</td>\n",
              "      <td>hasoc_2020_en_4603</td>\n",
              "      <td>RT @AphraBrandreth: You don’t need an excuse t...</td>\n",
              "      <td>: You dont need an excuse to but cakes and fac...</td>\n",
              "      <td>[#CelebrateChessington]</td>\n",
              "      <td>[]</td>\n",
              "      <td>[]</td>\n",
              "      <td>[https://t.co/uV0NfXFDLz]</td>\n",
              "      <td>[@AphraBrandreth]</td>\n",
              "      <td>[]</td>\n",
              "      <td>[RT]</td>\n",
              "      <td>[]</td>\n",
              "      <td>[celebrate chessington]</td>\n",
              "    </tr>\n",
              "    <tr>\n",
              "      <th>3199</th>\n",
              "      <td>1123498416183631872</td>\n",
              "      <td>NOT</td>\n",
              "      <td>NONE</td>\n",
              "      <td>hasoc_2020_en_5105</td>\n",
              "      <td>I don’t want to say it, but the fact that we c...</td>\n",
              "      <td>I dont want to say it, but the fact that we co...</td>\n",
              "      <td>[]</td>\n",
              "      <td>[]</td>\n",
              "      <td>[]</td>\n",
              "      <td>[https://t.co/hbffui8Fm1]</td>\n",
              "      <td>[]</td>\n",
              "      <td>[]</td>\n",
              "      <td>[]</td>\n",
              "      <td>[]</td>\n",
              "      <td>[]</td>\n",
              "    </tr>\n",
              "    <tr>\n",
              "      <th>1933</th>\n",
              "      <td>1126928568305348608</td>\n",
              "      <td>NOT</td>\n",
              "      <td>NONE</td>\n",
              "      <td>hasoc_2020_en_1884</td>\n",
              "      <td>RT @stfuIol: over 7 billion people in this wor...</td>\n",
              "      <td>: over billion people in this world and you th...</td>\n",
              "      <td>[]</td>\n",
              "      <td>[]</td>\n",
              "      <td>[]</td>\n",
              "      <td>[]</td>\n",
              "      <td>[@stfuIol]</td>\n",
              "      <td>[ 7]</td>\n",
              "      <td>[RT]</td>\n",
              "      <td>[]</td>\n",
              "      <td>[]</td>\n",
              "    </tr>\n",
              "    <tr>\n",
              "      <th>836</th>\n",
              "      <td>1127022029985595392</td>\n",
              "      <td>NOT</td>\n",
              "      <td>NONE</td>\n",
              "      <td>hasoc_2020_en_2158</td>\n",
              "      <td>you put the \"utu\" in OUR \"future\"😉😂</td>\n",
              "      <td>you put the \"utu\" in OUR \"future\"</td>\n",
              "      <td>[]</td>\n",
              "      <td>[]</td>\n",
              "      <td>[😉, 😂]</td>\n",
              "      <td>[]</td>\n",
              "      <td>[]</td>\n",
              "      <td>[]</td>\n",
              "      <td>[]</td>\n",
              "      <td>[winking face, face with tears of joy]</td>\n",
              "      <td>[]</td>\n",
              "    </tr>\n",
              "    <tr>\n",
              "      <th>203</th>\n",
              "      <td>1130129581434908674</td>\n",
              "      <td>HOF</td>\n",
              "      <td>OFFN</td>\n",
              "      <td>hasoc_2020_en_3890</td>\n",
              "      <td>RT @CrypticNoOne: Who's the dumbass that drop ...</td>\n",
              "      <td>: Who's the dumbass that drop kicked Arnold Sc...</td>\n",
              "      <td>[]</td>\n",
              "      <td>[]</td>\n",
              "      <td>[]</td>\n",
              "      <td>[https://t.co/TrEQeTiHi6]</td>\n",
              "      <td>[@CrypticNoOne]</td>\n",
              "      <td>[]</td>\n",
              "      <td>[RT]</td>\n",
              "      <td>[]</td>\n",
              "      <td>[]</td>\n",
              "    </tr>\n",
              "  </tbody>\n",
              "</table>\n",
              "</div>"
            ],
            "text/plain": [
              "                 tweet_id  ...           segmented_hash\n",
              "3439  1126915725355098112  ...                       []\n",
              "1067  1130255595079180290  ...                       []\n",
              "2468  1123657162172059649  ...                       []\n",
              "1070  1123799235852414979  ...                       []\n",
              "1156  1130032806258593792  ...                       []\n",
              "326   1126912978077540353  ...  [celebrate chessington]\n",
              "3199  1123498416183631872  ...                       []\n",
              "1933  1126928568305348608  ...                       []\n",
              "836   1127022029985595392  ...                       []\n",
              "203   1130129581434908674  ...                       []\n",
              "\n",
              "[10 rows x 15 columns]"
            ]
          },
          "metadata": {
            "tags": []
          },
          "execution_count": 24
        }
      ]
    },
    {
      "cell_type": "code",
      "metadata": {
        "cell_id": "5be4d068-10df-4c23-8b5d-cb43dbc3d438",
        "tags": [],
        "colab": {
          "base_uri": "https://localhost:8080/"
        },
        "id": "dmZwxHg-7Ydd",
        "outputId": "c54190a6-693d-46da-f4b0-d98d038e9157"
      },
      "source": [
        "# convert labels (categorical values) into numbers\n",
        "LE = LabelEncoder()\n",
        "\n",
        "df['task_1'] = LE.fit_transform(df['task_1'])\n",
        "task1_params = dict(zip(LE.classes_, LE.transform(LE.classes_)))\n",
        "print(task1_params)\n",
        "\n",
        "df['task_2'] = LE.fit_transform(df['task_2'])\n",
        "task2_params = dict(zip(LE.classes_, LE.transform(LE.classes_)))\n",
        "print(task2_params)"
      ],
      "execution_count": null,
      "outputs": [
        {
          "output_type": "stream",
          "text": [
            "{'HOF': 0, 'NOT': 1}\n",
            "{'HATE': 0, 'NONE': 1, 'OFFN': 2, 'PRFN': 3}\n"
          ],
          "name": "stdout"
        }
      ]
    },
    {
      "cell_type": "code",
      "metadata": {
        "cell_id": "c9cfc3cf-9bab-44a9-b5a9-b6df80db4b89",
        "tags": [],
        "id": "26ohVdEL7Yde"
      },
      "source": [
        "def count_words(text):\n",
        "    return len(text.split())"
      ],
      "execution_count": null,
      "outputs": []
    },
    {
      "cell_type": "code",
      "metadata": {
        "cell_id": "43ee2895-f2cb-4fae-baf8-8f42ae25c334",
        "tags": [],
        "colab": {
          "base_uri": "https://localhost:8080/"
        },
        "id": "uRCnnNlc7Yde",
        "outputId": "cc701c1e-ebaa-475a-923d-54de518702f1"
      },
      "source": [
        "df.tweet_raw_text.apply(count_words).max()"
      ],
      "execution_count": null,
      "outputs": [
        {
          "output_type": "execute_result",
          "data": {
            "text/plain": [
              "31"
            ]
          },
          "metadata": {
            "tags": []
          },
          "execution_count": 31
        }
      ]
    },
    {
      "cell_type": "code",
      "metadata": {
        "cell_id": "3360f571-ba0c-425d-8359-a803a11cee5e",
        "tags": [],
        "id": "Mv1kgANB7Yde"
      },
      "source": [
        "MAX_LENGTH = 40\n",
        "posts = df.tweet_raw_text.values\n",
        "\n",
        "# store binary categories for each text\n",
        "categories = df['task_1'].values"
      ],
      "execution_count": null,
      "outputs": []
    },
    {
      "cell_type": "code",
      "metadata": {
        "cell_id": "3d0175d1-ae28-4f6d-8a57-6562ddd4fb00",
        "output_cleared": false,
        "tags": [],
        "colab": {
          "base_uri": "https://localhost:8080/"
        },
        "id": "barKTCSu7Ydf",
        "outputId": "57bfe567-c06b-4f23-e44d-0f3b616885f4"
      },
      "source": [
        "# Tokenize all of the sentences and map the tokens to thier word IDs.\n",
        "input_ids = []\n",
        "attention_masks = []\n",
        "\n",
        "# For every sentence...\n",
        "for sent in posts:\n",
        "    # 'encode_plus' will:\n",
        "    #   (1) Tokenize the sentence. Split the sentence into tokens.\n",
        "    #   (2) Prepend the [CLS] token to the start.\n",
        "    #   (3) Append the [SEP] token to the end.\n",
        "    #   (4) Map tokens to their IDs.\n",
        "    #   (5) Pad or truncate the sentence to 'max_length'\n",
        "    #   (6) Create the attention masks which explicitly differentiate real tokens from [PAD] tokens.\n",
        "    encoded_dict = tokenizer.encode_plus(\n",
        "                        sent,                           # Sentence to encode.\n",
        "                        add_special_tokens = True,      # Add '[CLS]' and '[SEP]'\n",
        "                        max_length = MAX_LENGTH,        # Pad & truncate all sentences.\n",
        "                        pad_to_max_length = True,\n",
        "                        return_attention_mask = True,   # Construct attn. masks.\n",
        "                        return_tensors = 'pt',          # Return pytorch tensors.\n",
        "                   )\n",
        "    \n",
        "    # Add the encoded sentence to the list.    \n",
        "    input_ids.append(encoded_dict['input_ids'])\n",
        "    \n",
        "    # And its attention mask (simply differentiates padding from non-padding).\n",
        "    attention_masks.append(encoded_dict['attention_mask'])\n",
        "\n",
        "# Convert the lists into tensors.\n",
        "input_ids = torch.cat(input_ids, dim=0)\n",
        "attention_masks = torch.cat(attention_masks, dim=0)\n",
        "labels = torch.tensor(categories)"
      ],
      "execution_count": null,
      "outputs": [
        {
          "output_type": "stream",
          "text": [
            "Truncation was not explicitly activated but `max_length` is provided a specific value, please use `truncation=True` to explicitly truncate examples to max length. Defaulting to 'longest_first' truncation strategy. If you encode pairs of sequences (GLUE-style) with the tokenizer you can select this strategy more precisely by providing a specific strategy to `truncation`.\n",
            "/usr/local/lib/python3.7/dist-packages/transformers/tokenization_utils_base.py:2132: FutureWarning: The `pad_to_max_length` argument is deprecated and will be removed in a future version, use `padding=True` or `padding='longest'` to pad to the longest sequence in the batch, or use `padding='max_length'` to pad to a max length. In this case, you can give a specific length with `max_length` (e.g. `max_length=45`) or leave max_length to None to pad to the maximal input size of the model (e.g. 512 for Bert).\n",
            "  FutureWarning,\n"
          ],
          "name": "stderr"
        }
      ]
    },
    {
      "cell_type": "code",
      "metadata": {
        "cell_id": "c2cecba9-0f4e-478b-944b-2e06cd739d23",
        "tags": [],
        "colab": {
          "base_uri": "https://localhost:8080/"
        },
        "id": "E7vRi_c47Ydg",
        "outputId": "7dbf7230-8566-4438-a184-c5e07c174dc1"
      },
      "source": [
        "print('Original: ', posts[0])\n",
        "print('Token IDs:', input_ids[0])"
      ],
      "execution_count": null,
      "outputs": [
        {
          "output_type": "stream",
          "text": [
            "Original:  hate wen females hit ah nigga with tht bro , Im tryna make u my la sweety , fuck ah bro\n",
            "Token IDs: tensor([  101,  5223, 19181,  3801,  2718,  6289,  9152, 23033,  2007, 16215,\n",
            "         2102, 22953,  1010, 10047,  3046,  2532,  2191,  1057,  2026,  2474,\n",
            "         4086,  2100,  1010,  6616,  6289, 22953,   102,     0,     0,     0,\n",
            "            0,     0,     0,     0,     0,     0,     0,     0,     0,     0])\n"
          ],
          "name": "stdout"
        }
      ]
    },
    {
      "cell_type": "code",
      "metadata": {
        "cell_id": "32d4c338-62d2-4381-895f-d843394efbea",
        "tags": [],
        "colab": {
          "base_uri": "https://localhost:8080/"
        },
        "id": "xxXj4udR7Ydg",
        "outputId": "8effe311-b0ff-438d-b62d-3d00ae23faf2"
      },
      "source": [
        "# Combine the training inputs into a TensorDataset.\n",
        "dataset = TensorDataset(input_ids, attention_masks, labels)\n",
        "\n",
        "# Create a 80-20 train-validation split.\n",
        "\n",
        "# Calculate the number of samples to include in each set.\n",
        "train_size = int(0.80 * len(dataset))\n",
        "val_size = len(dataset) - train_size\n",
        "\n",
        "# Divide the dataset by randomly selecting samples.\n",
        "train_dataset, val_dataset = random_split(dataset, [train_size, val_size])\n",
        "\n",
        "print('{:>5,} training samples'.format(train_size))\n",
        "print('{:>5,} validation samples'.format(val_size))\n"
      ],
      "execution_count": null,
      "outputs": [
        {
          "output_type": "stream",
          "text": [
            "2,966 training samples\n",
            "  742 validation samples\n"
          ],
          "name": "stdout"
        }
      ]
    },
    {
      "cell_type": "code",
      "metadata": {
        "cell_id": "fad6e35a-d6d9-4e48-9155-5f4c308f0790",
        "tags": [],
        "id": "Zmd1se0w7Ydh"
      },
      "source": [
        "# The DataLoader needs to know our batch size for training, so we specify it here.\n",
        "# For fine-tuning BERT on a specific task, the authors recommend a batch size of 16 or 32.\n",
        "batch_size = 32\n",
        "\n",
        "# Create the DataLoaders for our training and validation sets.\n",
        "# We'll take training samples in random order. \n",
        "train_dataloader = DataLoader(\n",
        "            train_dataset,  # The training samples.\n",
        "            sampler = RandomSampler(train_dataset), # Select batches randomly\n",
        "            batch_size = batch_size # Trains with this batch size.\n",
        "        )\n",
        "\n",
        "# For validation the order doesn't matter, so we'll just read them sequentially.\n",
        "validation_dataloader = DataLoader(\n",
        "            val_dataset, # The validation samples.\n",
        "            sampler = SequentialSampler(val_dataset), # Pull out batches sequentially.\n",
        "            batch_size = batch_size # Evaluate with this batch size.\n",
        "        )\n"
      ],
      "execution_count": null,
      "outputs": []
    },
    {
      "cell_type": "code",
      "metadata": {
        "cell_id": "d490c2c0-4a4a-439a-8eb7-797e9cbea099",
        "tags": [],
        "colab": {
          "base_uri": "https://localhost:8080/",
          "height": 218,
          "referenced_widgets": [
            "3ad1343dbd494b65ae57d13196de0098",
            "466434a43406410ca64ae1f0e847cc23",
            "bff1891d7a7b48b8981d2ef90803e568",
            "2b3e6c71301a4029a60f481e64f94727",
            "8e531f7ed7b24be19c7dd02950b5cf61",
            "093eff95caa14cdc9556eed9429db1d1",
            "cdf56c2be44a4d1f9843377e080bce92",
            "d7b1d384e12d4066857212b0f37d4f7c",
            "bd2e11dcd7a94c6f94c1a121f699748f",
            "34e3c2439ce14e5b8721d02529497516",
            "5289ad276a8d42f393ea8f8507c49bdf",
            "cab73c1c437d4f2f9801baf70f8ec34a",
            "f0482c82b02348509ba5f61512e483f5",
            "f29f2fc6598447d3aa75214702351f55",
            "6015f676cbc6437bb2cb002e027fd718",
            "577c96dbbb1246cd82074f1cf534ba24"
          ]
        },
        "id": "sSn6xHoV7Ydi",
        "outputId": "565a0254-4cc6-44dd-afe8-f5798348fb50"
      },
      "source": [
        "# Load BertForSequenceClassification,\n",
        "# the pretrained BERT model with a single linear classification layer on top. \n",
        "\n",
        "model = BertForSequenceClassification.from_pretrained(\n",
        "    \"bert-base-uncased\", # Use the 12-layer BERT model, with an uncased vocab.\n",
        "    num_labels = 2, # The number of output labels--2 for binary classification.\n",
        "                    # You can increase this for multi-class tasks.\n",
        "    output_attentions = False, # Whether the model returns attentions weights.\n",
        "    output_hidden_states = False, # Whether the model returns all hidden-states.\n",
        ")\n",
        "\n",
        "\n",
        "\n",
        "if torch.cuda.is_available():    \n",
        "  # Tell pytorch to run this model on the GPU.\n",
        "  model.cuda()\n",
        "# If not...\n",
        "else:\n",
        "    print('No GPU available, using the CPU instead.')"
      ],
      "execution_count": null,
      "outputs": [
        {
          "output_type": "display_data",
          "data": {
            "application/vnd.jupyter.widget-view+json": {
              "model_id": "3ad1343dbd494b65ae57d13196de0098",
              "version_minor": 0,
              "version_major": 2
            },
            "text/plain": [
              "HBox(children=(FloatProgress(value=0.0, description='Downloading', max=570.0, style=ProgressStyle(description_…"
            ]
          },
          "metadata": {
            "tags": []
          }
        },
        {
          "output_type": "stream",
          "text": [
            "\n"
          ],
          "name": "stdout"
        },
        {
          "output_type": "display_data",
          "data": {
            "application/vnd.jupyter.widget-view+json": {
              "model_id": "bd2e11dcd7a94c6f94c1a121f699748f",
              "version_minor": 0,
              "version_major": 2
            },
            "text/plain": [
              "HBox(children=(FloatProgress(value=0.0, description='Downloading', max=440473133.0, style=ProgressStyle(descri…"
            ]
          },
          "metadata": {
            "tags": []
          }
        },
        {
          "output_type": "stream",
          "text": [
            "\n"
          ],
          "name": "stdout"
        },
        {
          "output_type": "stream",
          "text": [
            "Some weights of the model checkpoint at bert-base-uncased were not used when initializing BertForSequenceClassification: ['cls.seq_relationship.bias', 'cls.predictions.bias', 'cls.predictions.transform.dense.weight', 'cls.predictions.transform.LayerNorm.bias', 'cls.predictions.decoder.weight', 'cls.seq_relationship.weight', 'cls.predictions.transform.dense.bias', 'cls.predictions.transform.LayerNorm.weight']\n",
            "- This IS expected if you are initializing BertForSequenceClassification from the checkpoint of a model trained on another task or with another architecture (e.g. initializing a BertForSequenceClassification model from a BertForPreTraining model).\n",
            "- This IS NOT expected if you are initializing BertForSequenceClassification from the checkpoint of a model that you expect to be exactly identical (initializing a BertForSequenceClassification model from a BertForSequenceClassification model).\n",
            "Some weights of BertForSequenceClassification were not initialized from the model checkpoint at bert-base-uncased and are newly initialized: ['classifier.bias', 'classifier.weight']\n",
            "You should probably TRAIN this model on a down-stream task to be able to use it for predictions and inference.\n"
          ],
          "name": "stderr"
        }
      ]
    },
    {
      "cell_type": "code",
      "metadata": {
        "id": "AdsC-2887Ydk"
      },
      "source": [
        "# import torch.nn as nn\n",
        "# if torch.cuda.device_count() > 1:\n",
        "#     print(\"Let's use\", torch.cuda.device_count(), \"GPUs!\")\n",
        "#     # dim = 0 [30, xxx] -> [10, ...], [10, ...], [10, ...] on 3 GPUs\n",
        "#     model = nn.DataParallel(model)\n",
        "\n",
        "# model.to(device)\n"
      ],
      "execution_count": null,
      "outputs": []
    },
    {
      "cell_type": "markdown",
      "metadata": {
        "id": "y-uK9PL90ElO"
      },
      "source": [
        "We can browse all of the model’s parameters by name here.\n",
        "\n",
        "In the below cell, I’ve printed out the names and dimensions of the weights for:\n",
        "1. The embedding layer.\n",
        "2. The first of the twelve transformers.\n",
        "3. The output layer."
      ]
    },
    {
      "cell_type": "code",
      "metadata": {
        "cell_id": "bbf50601-f951-4f28-9d05-8e4627e6c2ad",
        "tags": [],
        "colab": {
          "base_uri": "https://localhost:8080/"
        },
        "id": "pGwdUzpa7Ydl",
        "outputId": "0d144e28-279c-4238-9177-0c7ac2679864"
      },
      "source": [
        "params = list(model.named_parameters())\n",
        "\n",
        "print('The BERT model has {:} different named parameters.\\n'.format(len(params)))\n",
        "\n",
        "print('==== Embedding Layer ====\\n')\n",
        "\n",
        "for p in params[0:5]:\n",
        "    print(\"{:<55} {:>12}\".format(p[0], str(tuple(p[1].size()))))\n",
        "\n",
        "print('\\n==== First Transformer ====\\n')\n",
        "\n",
        "for p in params[5:21]:\n",
        "    print(\"{:<55} {:>12}\".format(p[0], str(tuple(p[1].size()))))\n",
        "\n",
        "print('\\n==== Output Layer ====\\n')\n",
        "\n",
        "for p in params[-4:]:\n",
        "    print(\"{:<55} {:>12}\".format(p[0], str(tuple(p[1].size()))))\n"
      ],
      "execution_count": null,
      "outputs": [
        {
          "output_type": "stream",
          "text": [
            "The BERT model has 201 different named parameters.\n",
            "\n",
            "==== Embedding Layer ====\n",
            "\n",
            "bert.embeddings.word_embeddings.weight                  (30522, 768)\n",
            "bert.embeddings.position_embeddings.weight                (512, 768)\n",
            "bert.embeddings.token_type_embeddings.weight                (2, 768)\n",
            "bert.embeddings.LayerNorm.weight                              (768,)\n",
            "bert.embeddings.LayerNorm.bias                                (768,)\n",
            "\n",
            "==== First Transformer ====\n",
            "\n",
            "bert.encoder.layer.0.attention.self.query.weight          (768, 768)\n",
            "bert.encoder.layer.0.attention.self.query.bias                (768,)\n",
            "bert.encoder.layer.0.attention.self.key.weight            (768, 768)\n",
            "bert.encoder.layer.0.attention.self.key.bias                  (768,)\n",
            "bert.encoder.layer.0.attention.self.value.weight          (768, 768)\n",
            "bert.encoder.layer.0.attention.self.value.bias                (768,)\n",
            "bert.encoder.layer.0.attention.output.dense.weight        (768, 768)\n",
            "bert.encoder.layer.0.attention.output.dense.bias              (768,)\n",
            "bert.encoder.layer.0.attention.output.LayerNorm.weight        (768,)\n",
            "bert.encoder.layer.0.attention.output.LayerNorm.bias          (768,)\n",
            "bert.encoder.layer.0.intermediate.dense.weight           (3072, 768)\n",
            "bert.encoder.layer.0.intermediate.dense.bias                 (3072,)\n",
            "bert.encoder.layer.0.output.dense.weight                 (768, 3072)\n",
            "bert.encoder.layer.0.output.dense.bias                        (768,)\n",
            "bert.encoder.layer.0.output.LayerNorm.weight                  (768,)\n",
            "bert.encoder.layer.0.output.LayerNorm.bias                    (768,)\n",
            "\n",
            "==== Output Layer ====\n",
            "\n",
            "bert.pooler.dense.weight                                  (768, 768)\n",
            "bert.pooler.dense.bias                                        (768,)\n",
            "classifier.weight                                           (2, 768)\n",
            "classifier.bias                                                 (2,)\n"
          ],
          "name": "stdout"
        }
      ]
    },
    {
      "cell_type": "code",
      "metadata": {
        "cell_id": "d874d9d0-5d56-4e01-b070-be8d20e4bdfe",
        "tags": [],
        "id": "Hsl9G-6o7Ydm"
      },
      "source": [
        "# Note: AdamW is a class from the huggingface library (as opposed to pytorch) \n",
        "# I believe the 'W' stands for 'Weight Decay fix\"\n",
        "\n",
        "optimizer = AdamW(model.parameters(),\n",
        "                lr = 2e-5, # args.learning_rate - default is 5e-5, our notebook had 2e-5\n",
        "                eps = 1e-8 # args.adam_epsilon  - default is 1e-8.\n",
        "            )\n",
        "\n",
        "# The epsilon parameter eps = 1e-8 is “a very small number to prevent any division by zero in the implementation”"
      ],
      "execution_count": null,
      "outputs": []
    },
    {
      "cell_type": "code",
      "metadata": {
        "cell_id": "b040ff6a-a330-4fe8-8860-073c2eb16854",
        "tags": [],
        "id": "tSCn6sFR7Ydm"
      },
      "source": [
        "# Number of training epochs. The BERT authors recommend between 2 and 4. \n",
        "# We chose to run for 4, but we'll see later that this may be over-fitting the training data.\n",
        "epochs = 4\n",
        "\n",
        "# Total number of training steps is [number of batches] x [number of epochs]. \n",
        "# (Note that this is not the same as the number of training samples).\n",
        "total_steps = len(train_dataloader) * epochs\n",
        "\n",
        "# Create the learning rate scheduler.\n",
        "scheduler = get_linear_schedule_with_warmup(optimizer, \n",
        "                                            num_warmup_steps = 0, # Default value in run_glue.py\n",
        "                                            num_training_steps = total_steps)\n"
      ],
      "execution_count": null,
      "outputs": []
    },
    {
      "cell_type": "code",
      "metadata": {
        "cell_id": "638216a4-a64a-4c51-8b26-96792793414c",
        "tags": [],
        "id": "sTagdfgS7Ydm"
      },
      "source": [
        "# Function to calculate the accuracy of our predictions vs labels\n",
        "def flat_accuracy(preds, labels):\n",
        "    pred_flat = np.argmax(preds, axis=1).flatten()\n",
        "    labels_flat = labels.flatten()\n",
        "    return np.sum(pred_flat == labels_flat) / len(labels_flat)\n"
      ],
      "execution_count": null,
      "outputs": []
    },
    {
      "cell_type": "code",
      "metadata": {
        "cell_id": "07698c0d-6066-48f1-8b5f-88f0a221dcf6",
        "tags": [],
        "id": "WckTzciT7Ydn"
      },
      "source": [
        "# Helper function for formatting elapsed times as hh:mm:ss\n",
        "\n",
        "def format_time(elapsed):\n",
        "    '''\n",
        "    Takes a time in seconds and returns a string hh:mm:ss\n",
        "    '''\n",
        "    # Round to the nearest second.\n",
        "    elapsed_rounded = int(round((elapsed)))\n",
        "    \n",
        "    # Format as hh:mm:ss\n",
        "    return str(datetime.timedelta(seconds=elapsed_rounded))\n",
        "\n"
      ],
      "execution_count": null,
      "outputs": []
    },
    {
      "cell_type": "code",
      "metadata": {
        "cell_id": "b19a446f-890a-4729-9bb4-25d96fe886b9",
        "tags": [],
        "colab": {
          "base_uri": "https://localhost:8080/"
        },
        "id": "E98nsq3e7Ydn",
        "outputId": "40bc3d48-59ec-4c68-9ddf-bb5b1c2c3de3"
      },
      "source": [
        "seed_val = 42\n",
        "torch.cuda.empty_cache()\n",
        "random.seed(seed_val)\n",
        "np.random.seed(seed_val)\n",
        "torch.manual_seed(seed_val)\n",
        "torch.cuda.manual_seed_all(seed_val)\n",
        "\n",
        "# We'll store a number of quantities such as training and validation loss, \n",
        "# validation accuracy, and timings.\n",
        "training_stats = []\n",
        "\n",
        "# Measure the total training time for the whole run.\n",
        "total_t0 = time.time()\n",
        "\n",
        "# For each epoch...\n",
        "for epoch_i in range(0, epochs):\n",
        "    \n",
        "    # ========================================\n",
        "    #               Training\n",
        "    # ========================================\n",
        "    \n",
        "    # Perform one full pass over the training set.\n",
        "\n",
        "    print(\"\")\n",
        "    print('======== Epoch {:} / {:} ========'.format(epoch_i + 1, epochs))\n",
        "    print('Training...')\n",
        "\n",
        "    # Measure how long the training epoch takes.\n",
        "    t0 = time.time()\n",
        "\n",
        "    # Reset the total loss for this epoch.\n",
        "    total_train_loss = 0\n",
        "\n",
        "    # Put the model into training mode. Don't be mislead--the call to \n",
        "    # `train` just changes the *mode*, it doesn't *perform* the training.\n",
        "    # `dropout` and `batchnorm` layers behave differently during training\n",
        "    # vs. test (source: https://stackoverflow.com/questions/51433378/what-does-model-train-do-in-pytorch)\n",
        "    model.train()\n",
        "\n",
        "    # For each batch of training data...\n",
        "    for step, batch in enumerate(train_dataloader):\n",
        "\n",
        "        # Progress update every 40 batches.\n",
        "        if step % 40 == 0 and not step == 0:\n",
        "            # Calculate elapsed time in minutes.\n",
        "            elapsed = format_time(time.time() - t0)\n",
        "            \n",
        "            # Report progress.\n",
        "            print('  Batch {:>5,}  of  {:>5,}.    Elapsed: {:}.'.format(step, len(train_dataloader), elapsed))\n",
        "\n",
        "        # Unpack this training batch from our dataloader. \n",
        "        #\n",
        "        # As we unpack the batch, we'll also copy each tensor to the GPU using the \n",
        "        # `to` method.\n",
        "        #\n",
        "        # `batch` contains three pytorch tensors:\n",
        "        #   [0]: input ids \n",
        "        #   [1]: attention masks\n",
        "        #   [2]: labels \n",
        "        b_input_ids = batch[0].to(device)\n",
        "        b_input_mask = batch[1].to(device)\n",
        "        b_labels = batch[2].to(device)\n",
        "\n",
        "        # Always clear any previously calculated gradients before performing a\n",
        "        # backward pass. PyTorch doesn't do this automatically because \n",
        "        # accumulating the gradients is \"convenient while training RNNs\". \n",
        "        # (source: https://stackoverflow.com/questions/48001598/why-do-we-need-to-call-zero-grad-in-pytorch)\n",
        "        model.zero_grad()        \n",
        "\n",
        "        # Perform a forward pass (evaluate the model on this training batch).\n",
        "        # The documentation for this `model` function is here: \n",
        "        # https://huggingface.co/transformers/v2.2.0/model_doc/bert.html#transformers.BertForSequenceClassification\n",
        "        # It returns different numbers of parameters depending on what arguments\n",
        "        # arge given and what flags are set. For our useage here, it returns\n",
        "        # the loss (because we provided labels) and the \"logits\"--the model\n",
        "        # outputs prior to activation.\n",
        "        \"\"\"  # start - commented by anurag\n",
        "        loss, logits = model(b_input_ids, \n",
        "                             token_type_ids=None, \n",
        "                             attention_mask=b_input_mask, \n",
        "                             labels=b_labels)\n",
        "        \"\"\"  # end - commented by anurag\n",
        "\n",
        "        # start - added by anurag\n",
        "        outputs = model(b_input_ids, token_type_ids=None, attention_mask=b_input_mask, labels=b_labels)\n",
        "        loss = outputs.loss\n",
        "        # print(f\"loss: {loss.item()}\")\n",
        "        # print(f\"logits: {output.logits}\")\n",
        "        # end - added by anurag\n",
        "\n",
        "        # Accumulate the training loss over all of the batches so that we can\n",
        "        # calculate the average loss at the end. `loss` is a Tensor containing a\n",
        "        # single value; the `.item()` function just returns the Python value \n",
        "        # from the tensor.\n",
        "        total_train_loss += loss.item()\n",
        "\n",
        "        # Perform a backward pass to calculate the gradients.\n",
        "        loss.backward()\n",
        "\n",
        "        # Clip the norm of the gradients to 1.0.\n",
        "        # This is to help prevent the \"exploding gradients\" problem.\n",
        "        torch.nn.utils.clip_grad_norm_(model.parameters(), 1.0)\n",
        "\n",
        "        # Update parameters and take a step using the computed gradient.\n",
        "        # The optimizer dictates the \"update rule\"--how the parameters are\n",
        "        # modified based on their gradients, the learning rate, etc.\n",
        "        optimizer.step()\n",
        "\n",
        "        # Update the learning rate.\n",
        "        scheduler.step()\n",
        "\n",
        "    # Calculate the average loss over all of the batches.\n",
        "    avg_train_loss = total_train_loss / len(train_dataloader)            \n",
        "    \n",
        "    # Measure how long this epoch took.\n",
        "    training_time = format_time(time.time() - t0)\n",
        "\n",
        "    print(\"\")\n",
        "    print(\"  Average training loss: {0:.2f}\".format(avg_train_loss))\n",
        "    print(\"  Training epcoh took: {:}\".format(training_time))\n",
        "        \n",
        "    # ========================================\n",
        "    #               Validation\n",
        "    # ========================================\n",
        "    # After the completion of each training epoch, measure our performance on\n",
        "    # our validation set.\n",
        "\n",
        "    print(\"\")\n",
        "    print(\"Running Validation...\")\n",
        "\n",
        "    t0 = time.time()\n",
        "\n",
        "    # Put the model in evaluation mode--the dropout layers behave differently\n",
        "    # during evaluation.\n",
        "    torch.save(model, MODEL_NAME+str(epoch_i))\n",
        "    model.eval()\n",
        "\n",
        "    # Tracking variables \n",
        "    total_eval_accuracy = 0\n",
        "    total_eval_loss = 0\n",
        "    nb_eval_steps = 0\n",
        "\n",
        "    # Evaluate data for one epoch\n",
        "    for batch in validation_dataloader:\n",
        "        \n",
        "        # Unpack this training batch from our dataloader. \n",
        "        #\n",
        "        # As we unpack the batch, we'll also copy each tensor to the GPU using \n",
        "        # the `to` method.\n",
        "        #\n",
        "        # `batch` contains three pytorch tensors:\n",
        "        #   [0]: input ids \n",
        "        #   [1]: attention masks\n",
        "        #   [2]: labels \n",
        "        b_input_ids = batch[0].to(device)\n",
        "        b_input_mask = batch[1].to(device)\n",
        "        b_labels = batch[2].to(device)\n",
        "        \n",
        "        # Tell pytorch not to bother with constructing the compute graph during\n",
        "        # the forward pass, since this is only needed for backprop (training).\n",
        "        with torch.no_grad():        \n",
        "\n",
        "            # Forward pass, calculate logit predictions.\n",
        "            # token_type_ids is the same as the \"segment ids\", which \n",
        "            # differentiates sentence 1 and 2 in 2-sentence tasks.\n",
        "            # The documentation for this `model` function is here: \n",
        "            # https://huggingface.co/transformers/v2.2.0/model_doc/bert.html#transformers.BertForSequenceClassification\n",
        "            # Get the \"logits\" output by the model. The \"logits\" are the output\n",
        "            # values prior to applying an activation function like the softmax.\n",
        "            \"\"\"  # start - commented by anurag\n",
        "            (loss, logits) = model(b_input_ids, \n",
        "                                   token_type_ids=None, \n",
        "                                   attention_mask=b_input_mask,\n",
        "                                   labels=b_labels)\n",
        "            \"\"\"  # end - commented by anurag\n",
        "\n",
        "            # start - added by anurag\n",
        "            outputs = model(b_input_ids, token_type_ids=None, attention_mask=b_input_mask, labels=b_labels)\n",
        "            loss = outputs.loss\n",
        "            logits = outputs.logits\n",
        "            # print(f\"loss: {loss}\")\n",
        "            # print(f\"logits: {logits}\")\n",
        "            # end - added by anurag\n",
        "\n",
        "        # Accumulate the validation loss.\n",
        "        total_eval_loss += loss.item()\n",
        "\n",
        "        # Move logits and labels to CPU\n",
        "        logits = logits.detach().cpu().numpy()\n",
        "        label_ids = b_labels.to('cpu').numpy()\n",
        "\n",
        "        # Calculate the accuracy for this batch of test sentences, and\n",
        "        # accumulate it over all batches.\n",
        "        total_eval_accuracy += flat_accuracy(logits, label_ids)\n",
        "        \n",
        "\n",
        "    # Report the final accuracy for this validation run.\n",
        "    avg_val_accuracy = total_eval_accuracy / len(validation_dataloader)\n",
        "    print(\"  Accuracy: {0:.2f}\".format(avg_val_accuracy))\n",
        "\n",
        "    # Calculate the average loss over all of the batches.\n",
        "    avg_val_loss = total_eval_loss / len(validation_dataloader)\n",
        "    \n",
        "    # Measure how long the validation run took.\n",
        "    validation_time = format_time(time.time() - t0)\n",
        "    \n",
        "    print(\"  Validation Loss: {0:.2f}\".format(avg_val_loss))\n",
        "    print(\"  Validation took: {:}\".format(validation_time))\n",
        "    # Record all statistics from this epoch.\n",
        "    training_stats.append(\n",
        "        {\n",
        "            'epoch': epoch_i + 1,\n",
        "            'Training Loss': avg_train_loss,\n",
        "            'Valid. Loss': avg_val_loss,\n",
        "            'Valid. Accur.': avg_val_accuracy,\n",
        "            'Training Time': training_time,\n",
        "            'Validation Time': validation_time\n",
        "        }\n",
        "    )\n",
        "\n",
        "print(\"\")\n",
        "print(\"Training complete!\")\n",
        "\n",
        "print(\"Total training took {:} (h:mm:ss)\".format(format_time(time.time()-total_t0)))\n"
      ],
      "execution_count": null,
      "outputs": [
        {
          "output_type": "stream",
          "text": [
            "\n",
            "======== Epoch 1 / 4 ========\n",
            "Training...\n",
            "  Batch    40  of     93.    Elapsed: 0:00:09.\n",
            "  Batch    80  of     93.    Elapsed: 0:00:18.\n",
            "\n",
            "  Average training loss: 0.39\n",
            "  Training epcoh took: 0:00:21\n",
            "\n",
            "Running Validation...\n",
            "  Accuracy: 0.90\n",
            "  Validation Loss: 0.28\n",
            "  Validation took: 0:00:10\n",
            "\n",
            "======== Epoch 2 / 4 ========\n",
            "Training...\n",
            "  Batch    40  of     93.    Elapsed: 0:00:09.\n",
            "  Batch    80  of     93.    Elapsed: 0:00:19.\n",
            "\n",
            "  Average training loss: 0.22\n",
            "  Training epcoh took: 0:00:22\n",
            "\n",
            "Running Validation...\n",
            "  Accuracy: 0.89\n",
            "  Validation Loss: 0.29\n",
            "  Validation took: 0:00:21\n",
            "\n",
            "======== Epoch 3 / 4 ========\n",
            "Training...\n",
            "  Batch    40  of     93.    Elapsed: 0:00:10.\n",
            "  Batch    80  of     93.    Elapsed: 0:00:20.\n",
            "\n",
            "  Average training loss: 0.15\n",
            "  Training epcoh took: 0:00:23\n",
            "\n",
            "Running Validation...\n",
            "  Accuracy: 0.89\n",
            "  Validation Loss: 0.32\n",
            "  Validation took: 0:00:09\n",
            "\n",
            "======== Epoch 4 / 4 ========\n",
            "Training...\n",
            "  Batch    40  of     93.    Elapsed: 0:00:10.\n",
            "  Batch    80  of     93.    Elapsed: 0:00:21.\n",
            "\n",
            "  Average training loss: 0.11\n",
            "  Training epcoh took: 0:00:24\n",
            "\n",
            "Running Validation...\n",
            "  Accuracy: 0.90\n",
            "  Validation Loss: 0.33\n",
            "  Validation took: 0:00:09\n",
            "\n",
            "Training complete!\n",
            "Total training took 0:02:19 (h:mm:ss)\n"
          ],
          "name": "stdout"
        }
      ]
    },
    {
      "cell_type": "markdown",
      "metadata": {
        "id": "qS9uHUas793z"
      },
      "source": [
        "Summary of the training process"
      ]
    },
    {
      "cell_type": "code",
      "metadata": {
        "cell_id": "9326a12f-0a1a-445c-89ef-10f992693b05",
        "tags": [],
        "colab": {
          "base_uri": "https://localhost:8080/",
          "height": 168
        },
        "id": "FQ6eqgR-7Ydr",
        "outputId": "0e03e14e-a0ac-450a-ab53-b2216a49d19a"
      },
      "source": [
        "import pandas as pd\n",
        "\n",
        "# Display floats with two decimal places.\n",
        "pd.set_option('precision', 2)\n",
        "\n",
        "# Create a DataFrame from our training statistics.\n",
        "df_stats = pd.DataFrame(data=training_stats)\n",
        "\n",
        "# Use the 'epoch' as the row index.\n",
        "df_stats = df_stats.set_index('epoch')\n",
        "\n",
        "# A hack to force the column headers to wrap.\n",
        "#df = df.style.set_table_styles([dict(selector=\"th\",props=[('max-width', '70px')])])\n",
        "\n",
        "# Display the table.\n",
        "df_stats"
      ],
      "execution_count": null,
      "outputs": [
        {
          "output_type": "execute_result",
          "data": {
            "application/vnd.google.colaboratory.module+javascript": "\n      import \"https://ssl.gstatic.com/colaboratory/data_table/a6224c040fa35dcf/data_table.js\";\n\n      window.createDataTable({\n        data: [[{\n            'v': 1,\n            'f': \"1\",\n        },\n{\n            'v': 0.39211088939700073,\n            'f': \"0.39211088939700073\",\n        },\n{\n            'v': 0.2827492964764436,\n            'f': \"0.2827492964764436\",\n        },\n{\n            'v': 0.9010416666666666,\n            'f': \"0.9010416666666666\",\n        },\n\"0:00:21\",\n\"0:00:10\"],\n [{\n            'v': 2,\n            'f': \"2\",\n        },\n{\n            'v': 0.22071518897209116,\n            'f': \"0.22071518897209116\",\n        },\n{\n            'v': 0.29032372248669464,\n            'f': \"0.29032372248669464\",\n        },\n{\n            'v': 0.8919270833333334,\n            'f': \"0.8919270833333334\",\n        },\n\"0:00:22\",\n\"0:00:21\"],\n [{\n            'v': 3,\n            'f': \"3\",\n        },\n{\n            'v': 0.14879762892040513,\n            'f': \"0.14879762892040513\",\n        },\n{\n            'v': 0.32466341570640606,\n            'f': \"0.32466341570640606\",\n        },\n{\n            'v': 0.8880208333333334,\n            'f': \"0.8880208333333334\",\n        },\n\"0:00:23\",\n\"0:00:09\"],\n [{\n            'v': 4,\n            'f': \"4\",\n        },\n{\n            'v': 0.10816975138200227,\n            'f': \"0.10816975138200227\",\n        },\n{\n            'v': 0.3289907455133895,\n            'f': \"0.3289907455133895\",\n        },\n{\n            'v': 0.8984375,\n            'f': \"0.8984375\",\n        },\n\"0:00:24\",\n\"0:00:09\"]],\n        columns: [[\"number\", \"epoch\"], [\"number\", \"Training Loss\"], [\"number\", \"Valid. Loss\"], [\"number\", \"Valid. Accur.\"], [\"string\", \"Training Time\"], [\"string\", \"Validation Time\"]],\n        columnOptions: [{\"width\": \"1px\", \"className\": \"index_column\"}],\n        rowsPerPage: 25,\n        helpUrl: \"https://colab.research.google.com/notebooks/data_table.ipynb\",\n        suppressOutputScrolling: true,\n        minimumWidth: undefined,\n      });\n    ",
            "text/html": [
              "<div>\n",
              "<style scoped>\n",
              "    .dataframe tbody tr th:only-of-type {\n",
              "        vertical-align: middle;\n",
              "    }\n",
              "\n",
              "    .dataframe tbody tr th {\n",
              "        vertical-align: top;\n",
              "    }\n",
              "\n",
              "    .dataframe thead th {\n",
              "        text-align: right;\n",
              "    }\n",
              "</style>\n",
              "<table border=\"1\" class=\"dataframe\">\n",
              "  <thead>\n",
              "    <tr style=\"text-align: right;\">\n",
              "      <th></th>\n",
              "      <th>Training Loss</th>\n",
              "      <th>Valid. Loss</th>\n",
              "      <th>Valid. Accur.</th>\n",
              "      <th>Training Time</th>\n",
              "      <th>Validation Time</th>\n",
              "    </tr>\n",
              "    <tr>\n",
              "      <th>epoch</th>\n",
              "      <th></th>\n",
              "      <th></th>\n",
              "      <th></th>\n",
              "      <th></th>\n",
              "      <th></th>\n",
              "    </tr>\n",
              "  </thead>\n",
              "  <tbody>\n",
              "    <tr>\n",
              "      <th>1</th>\n",
              "      <td>0.39</td>\n",
              "      <td>0.28</td>\n",
              "      <td>0.90</td>\n",
              "      <td>0:00:21</td>\n",
              "      <td>0:00:10</td>\n",
              "    </tr>\n",
              "    <tr>\n",
              "      <th>2</th>\n",
              "      <td>0.22</td>\n",
              "      <td>0.29</td>\n",
              "      <td>0.89</td>\n",
              "      <td>0:00:22</td>\n",
              "      <td>0:00:21</td>\n",
              "    </tr>\n",
              "    <tr>\n",
              "      <th>3</th>\n",
              "      <td>0.15</td>\n",
              "      <td>0.32</td>\n",
              "      <td>0.89</td>\n",
              "      <td>0:00:23</td>\n",
              "      <td>0:00:09</td>\n",
              "    </tr>\n",
              "    <tr>\n",
              "      <th>4</th>\n",
              "      <td>0.11</td>\n",
              "      <td>0.33</td>\n",
              "      <td>0.90</td>\n",
              "      <td>0:00:24</td>\n",
              "      <td>0:00:09</td>\n",
              "    </tr>\n",
              "  </tbody>\n",
              "</table>\n",
              "</div>"
            ],
            "text/plain": [
              "       Training Loss  Valid. Loss  Valid. Accur. Training Time Validation Time\n",
              "epoch                                                                         \n",
              "1               0.39         0.28           0.90       0:00:21         0:00:10\n",
              "2               0.22         0.29           0.89       0:00:22         0:00:21\n",
              "3               0.15         0.32           0.89       0:00:23         0:00:09\n",
              "4               0.11         0.33           0.90       0:00:24         0:00:09"
            ]
          },
          "metadata": {
            "tags": []
          },
          "execution_count": 25
        }
      ]
    },
    {
      "cell_type": "code",
      "metadata": {
        "cell_id": "6b3bafe5-50f3-4e48-b583-cace811841b9",
        "tags": [],
        "colab": {
          "base_uri": "https://localhost:8080/",
          "height": 427
        },
        "id": "97V4wmYk7Ydv",
        "outputId": "07cb2778-610f-42b8-9ba0-298ef40de67e"
      },
      "source": [
        "# Use plot styling from seaborn.\n",
        "sns.set(style='darkgrid')\n",
        "\n",
        "# Increase the plot size and font size.\n",
        "sns.set(font_scale=1.5)\n",
        "plt.rcParams[\"figure.figsize\"] = (12,6)\n",
        "\n",
        "# Plot the learning curve.\n",
        "plt.plot(df_stats['Training Loss'], 'b-o', label=\"Training\")\n",
        "plt.plot(df_stats['Valid. Loss'], 'g-o', label=\"Validation\")\n",
        "\n",
        "# Label the plot.\n",
        "plt.title(\"Training & Validation Loss\")\n",
        "plt.xlabel(\"Epoch\")\n",
        "plt.ylabel(\"Loss\")\n",
        "plt.legend()\n",
        "plt.xticks([1, 2, 3, 4])\n",
        "\n",
        "plt.show()"
      ],
      "execution_count": null,
      "outputs": [
        {
          "output_type": "display_data",
          "data": {
            "image/png": "[encoded data removed]",
            "text/plain": [
              "<Figure size 864x432 with 1 Axes>"
            ]
          },
          "metadata": {
            "tags": []
          }
        }
      ]
    },
    {
      "cell_type": "markdown",
      "metadata": {
        "id": "C8JQbPqQSqOh"
      },
      "source": [
        "The training loss is going down with each epoch, the validation loss is increasing! This suggests that we are training our model too long, and it’s over-fitting on the training data"
      ]
    },
    {
      "cell_type": "markdown",
      "metadata": {
        "id": "TPZTVyyHUUbQ"
      },
      "source": [
        "**Performance On Test Set**"
      ]
    },
    {
      "cell_type": "code",
      "metadata": {
        "id": "D4SCJb2l7Ydw"
      },
      "source": [
        "TEST_PATH = '/content/drive/MyDrive/Colab Notebooks/Hate-Speech-Detection/data/2020_processed_test/en_test.pickle'\n",
        "\n",
        "with open(TEST_PATH,'rb') as f:\n",
        "    data_test = pickle.load(f)\n",
        "\n",
        "df_test = pd.DataFrame.from_dict(data_test)\n",
        "\n",
        "# Create sentence and label lists\n",
        "posts = df_test.tweet_raw_text.values\n",
        "\n",
        "categories = []\n",
        "\n",
        "for i in df_test.task_1:\n",
        "    categories.append(task1_params[i])"
      ],
      "execution_count": null,
      "outputs": []
    },
    {
      "cell_type": "markdown",
      "metadata": {
        "id": "OGiGbEbBW3b6"
      },
      "source": [
        "Data Preparation\n",
        "\n",
        "We’ll need to apply all of the same steps that we did for the training data to prepare our test data set."
      ]
    },
    {
      "cell_type": "code",
      "metadata": {
        "cell_id": "becae5e1-6875-4313-92b1-3ca47003249d",
        "output_cleared": false,
        "tags": [],
        "colab": {
          "base_uri": "https://localhost:8080/"
        },
        "id": "ORW80Tlw7Ydx",
        "outputId": "e80dc18f-66cc-42ec-d93e-e4e691309ad4"
      },
      "source": [
        "# Tokenize all of the sentences and map the tokens to thier word IDs.\n",
        "input_ids = []\n",
        "attention_masks = []\n",
        "\n",
        "# For every sentence...\n",
        "for sent in posts:\n",
        "    # `encode_plus` will:\n",
        "    #   (1) Tokenize the sentence.\n",
        "    #   (2) Prepend the `[CLS]` token to the start.\n",
        "    #   (3) Append the `[SEP]` token to the end.\n",
        "    #   (4) Map tokens to their IDs.\n",
        "    #   (5) Pad or truncate the sentence to `max_length`\n",
        "    #   (6) Create attention masks for [PAD] tokens.\n",
        "    encoded_dict = tokenizer.encode_plus(\n",
        "                        sent,                           # Sentence to encode.\n",
        "                        add_special_tokens = True,      # Add '[CLS]' and '[SEP]'\n",
        "                        max_length = MAX_LENGTH,        # Pad & truncate all sentences.\n",
        "                        pad_to_max_length = True,\n",
        "                        return_attention_mask = True,   # Construct attn. masks.\n",
        "                        return_tensors = 'pt',          # Return pytorch tensors.\n",
        "                   )\n",
        "    \n",
        "    # Add the encoded sentence to the list.    \n",
        "    input_ids.append(encoded_dict['input_ids'])\n",
        "    \n",
        "    # And its attention mask (simply differentiates padding from non-padding).\n",
        "    attention_masks.append(encoded_dict['attention_mask'])\n",
        "\n",
        "# Convert the lists into tensors.\n",
        "input_ids = torch.cat(input_ids, dim=0)\n",
        "attention_masks = torch.cat(attention_masks, dim=0)\n",
        "labels = torch.tensor(categories)\n",
        "\n",
        "# Set the batch size.  \n",
        "batch_size = 16\n",
        "\n",
        "# Create the DataLoader.\n",
        "prediction_data = TensorDataset(input_ids, attention_masks, labels)\n",
        "prediction_sampler = SequentialSampler(prediction_data)\n",
        "prediction_dataloader = DataLoader(prediction_data, sampler=prediction_sampler, batch_size=batch_size)\n"
      ],
      "execution_count": null,
      "outputs": [
        {
          "output_type": "stream",
          "text": [
            "/usr/local/lib/python3.7/dist-packages/transformers/tokenization_utils_base.py:2132: FutureWarning: The `pad_to_max_length` argument is deprecated and will be removed in a future version, use `padding=True` or `padding='longest'` to pad to the longest sequence in the batch, or use `padding='max_length'` to pad to a max length. In this case, you can give a specific length with `max_length` (e.g. `max_length=45`) or leave max_length to None to pad to the maximal input size of the model (e.g. 512 for Bert).\n",
            "  FutureWarning,\n"
          ],
          "name": "stderr"
        }
      ]
    },
    {
      "cell_type": "code",
      "metadata": {
        "cell_id": "7bb0275c-9fbe-457c-9183-65d8b8181ff5",
        "tags": [],
        "colab": {
          "base_uri": "https://localhost:8080/"
        },
        "id": "1l3EM-CP7Ydy",
        "outputId": "affc2c96-f1d5-44b1-defa-c2d1382252dd"
      },
      "source": [
        "print('Predicting labels for {:,} test sentences...'.format(len(input_ids)))\n",
        "\n",
        "# Put model in evaluation mode\n",
        "model.eval()\n",
        "\n",
        "# Tracking variables \n",
        "predictions , true_labels = [], []\n",
        "\n",
        "# Predict \n",
        "for batch in prediction_dataloader:\n",
        "  # Add batch to GPU\n",
        "  batch = tuple(t.to(device) for t in batch)\n",
        "  \n",
        "  # Unpack the inputs from our dataloader\n",
        "  b_input_ids, b_input_mask, b_labels = batch\n",
        "  \n",
        "  # Telling the model not to compute or store gradients, saving memory and \n",
        "  # speeding up prediction\n",
        "  with torch.no_grad():\n",
        "      # Forward pass, calculate logit predictions\n",
        "      outputs = model(b_input_ids, token_type_ids=None, \n",
        "                      attention_mask=b_input_mask)\n",
        "\n",
        "  logits = outputs[0]\n",
        "\n",
        "  # Move logits and labels to CPU\n",
        "  logits = logits.detach().cpu().numpy()\n",
        "  label_ids = b_labels.to('cpu').numpy()\n",
        "  \n",
        "  # Store predictions and true labels\n",
        "  predictions.append(logits)\n",
        "  true_labels.append(label_ids)\n",
        "\n",
        "print('\\nDONE')\n"
      ],
      "execution_count": null,
      "outputs": [
        {
          "output_type": "stream",
          "text": [
            "Predicting labels for 814 test sentences...\n",
            "    DONE.\n"
          ],
          "name": "stdout"
        }
      ]
    },
    {
      "cell_type": "code",
      "metadata": {
        "cell_id": "226bdc8f-7717-4107-80d4-e0bc292e7176",
        "tags": [],
        "colab": {
          "base_uri": "https://localhost:8080/"
        },
        "id": "ah9XL3-87Ydy",
        "outputId": "14629cad-f899-42f3-855e-e3d354d7b75a"
      },
      "source": [
        "print(predictions[0],true_labels[0])"
      ],
      "execution_count": null,
      "outputs": [
        {
          "output_type": "stream",
          "text": [
            "[[-2.4018703   2.2060192 ]\n",
            " [-2.3457365   2.3349802 ]\n",
            " [-2.297114    2.061532  ]\n",
            " [ 2.5259047  -2.2720265 ]\n",
            " [ 2.4577847  -2.1060038 ]\n",
            " [-1.6005025   1.4974406 ]\n",
            " [ 2.5584817  -2.2886329 ]\n",
            " [ 2.646024   -2.2902195 ]\n",
            " [-0.6533378   0.8363467 ]\n",
            " [ 2.3279676  -2.1756597 ]\n",
            " [ 2.400221   -2.1513567 ]\n",
            " [ 2.5979981  -2.2410073 ]\n",
            " [ 2.311139   -2.0655768 ]\n",
            " [-2.3410292   2.1960187 ]\n",
            " [ 0.7221781  -0.21297485]\n",
            " [ 2.3980522  -1.966161  ]] [1 0 1 0 0 1 0 0 0 0 0 0 0 1 0 0]\n"
          ],
          "name": "stdout"
        }
      ]
    },
    {
      "cell_type": "code",
      "metadata": {
        "cell_id": "001ecf3b-4a00-424d-bf40-bfa6b235126c",
        "tags": [],
        "colab": {
          "base_uri": "https://localhost:8080/"
        },
        "id": "UqDqEJsj7Yd0",
        "outputId": "63027742-e21f-4394-8255-5c8c4e46ff78"
      },
      "source": [
        "flat_predictions = np.concatenate(predictions, axis=0)\n",
        "\n",
        "# For each sample, pick the label (0 or 1) with the higher score.\n",
        "flat_predictions = np.argmax(flat_predictions, axis=1).flatten()\n",
        "\n",
        "# Combine the correct labels for each batch into a single list.\n",
        "flat_true_labels = np.concatenate(true_labels, axis=0)\n",
        "\n",
        "# Calculate the MCC\n",
        "mcc = matthews_corrcoef(flat_true_labels, flat_predictions)\n",
        "\n",
        "print('Total MCC: %.3f' % mcc)"
      ],
      "execution_count": null,
      "outputs": [
        {
          "output_type": "stream",
          "text": [
            "Total MCC: 0.780\n"
          ],
          "name": "stdout"
        }
      ]
    },
    {
      "cell_type": "code",
      "metadata": {
        "cell_id": "7a1de298-5012-436b-b25e-418e45d0c64a",
        "tags": [],
        "colab": {
          "base_uri": "https://localhost:8080/"
        },
        "id": "jfomhBu47Yd1",
        "outputId": "53348a93-8f1d-42c3-cd7f-8173b3ca5221"
      },
      "source": [
        "accurate = 0\n",
        "for (i,j) in zip(flat_predictions, flat_true_labels):\n",
        "    if i==j:\n",
        "        accurate += 1\n",
        "accurate/len(flat_predictions)"
      ],
      "execution_count": null,
      "outputs": [
        {
          "output_type": "execute_result",
          "data": {
            "text/plain": [
              "0.8894348894348895"
            ]
          },
          "metadata": {
            "tags": []
          },
          "execution_count": 34
        }
      ]
    },
    {
      "cell_type": "code",
      "metadata": {
        "cell_id": "288df715-d267-4372-b62f-acb4e217dfe4",
        "tags": [],
        "colab": {
          "base_uri": "https://localhost:8080/"
        },
        "id": "xiJBjdwA7Yd2",
        "outputId": "3485ddde-24a2-4352-c187-719a99f0272c"
      },
      "source": [
        "from sklearn.metrics import f1_score\n",
        "f1_score(flat_true_labels, flat_predictions, average='macro')"
      ],
      "execution_count": null,
      "outputs": [
        {
          "output_type": "execute_result",
          "data": {
            "text/plain": [
              "0.8894182002608317"
            ]
          },
          "metadata": {
            "tags": []
          },
          "execution_count": 35
        }
      ]
    },
    {
      "cell_type": "markdown",
      "metadata": {
        "id": "O32iHKsKPtwI"
      },
      "source": [
        "##Method 1 to save and load model"
      ]
    },
    {
      "cell_type": "code",
      "metadata": {
        "colab": {
          "base_uri": "https://localhost:8080/"
        },
        "id": "XTLZnh-dT-9Q",
        "outputId": "850399ab-7ead-4594-ec2d-d0e979b90ef2"
      },
      "source": [
        "import os\n",
        "\n",
        "output_dir = '/content/drive/MyDrive/Colab Notebooks/Hate-Speech-Detection/models/model_plus_tokenizer_task1/'\n",
        "\n",
        "# Create output directory if needed\n",
        "if not os.path.exists(output_dir):\n",
        "    os.makedirs(output_dir)\n",
        "\n",
        "print(\"Saving model to %s\" % output_dir)\n",
        "\n",
        "# Save a trained model, configuration and tokenizer using `save_pretrained()`.\n",
        "# They can then be reloaded using `from_pretrained()`\n",
        "model_to_save = model.module if hasattr(model, 'module') else model  # Take care of distributed/parallel training\n",
        "model_to_save.save_pretrained(output_dir)\n",
        "tokenizer.save_pretrained(output_dir)\n",
        "\n",
        "# Good practice: save your training arguments together with the trained model\n",
        "# torch.save(args, os.path.join(output_dir, 'training_args.bin'))"
      ],
      "execution_count": null,
      "outputs": [
        {
          "output_type": "stream",
          "text": [
            "Saving model to /content/drive/MyDrive/Colab Notebooks/Hate-Speech-Detection/models/model_plus_tokenizer_task1/\n"
          ],
          "name": "stdout"
        },
        {
          "output_type": "execute_result",
          "data": {
            "text/plain": [
              "('/content/drive/MyDrive/Colab Notebooks/Hate-Speech-Detection/models/model_plus_tokenizer_task1/tokenizer_config.json',\n",
              " '/content/drive/MyDrive/Colab Notebooks/Hate-Speech-Detection/models/model_plus_tokenizer_task1/special_tokens_map.json',\n",
              " '/content/drive/MyDrive/Colab Notebooks/Hate-Speech-Detection/models/model_plus_tokenizer_task1/vocab.txt',\n",
              " '/content/drive/MyDrive/Colab Notebooks/Hate-Speech-Detection/models/model_plus_tokenizer_task1/added_tokens.json')"
            ]
          },
          "metadata": {
            "tags": []
          },
          "execution_count": 44
        }
      ]
    },
    {
      "cell_type": "code",
      "metadata": {
        "id": "W_1XzWMZJx05"
      },
      "source": [
        "def classify_sentence(sentence):\n",
        "\n",
        "    input_id_sentence = []\n",
        "    attention_mask_sentence = []\n",
        "\n",
        "    model = BertForSequenceClassification.from_pretrained(output_dir)\n",
        "\n",
        "    print(f\"\\nThe model can predict {model.num_labels} different classes\\n\")\n",
        "\n",
        "    tokenizer = BertTokenizer.from_pretrained(output_dir)\n",
        "\n",
        "    encoded_dict = tokenizer.encode_plus(\n",
        "                sentence,                      # Sentence to encode.\n",
        "                add_special_tokens = True,     # Add '[CLS]' and '[SEP]'\n",
        "                max_length = MAX_LENGTH,       # Pad & truncate all sentences.\n",
        "                pad_to_max_length = True,\n",
        "                return_attention_mask = True,  # Construct attn. masks.\n",
        "                return_tensors = 'pt',         # Return pytorch tensors.\n",
        "    )\n",
        "\n",
        "    # Add the encoded sentence to the list.    \n",
        "    input_id_sentence.append(encoded_dict['input_ids'])\n",
        "    # And its attention mask (simply differentiates padding from non-padding).\n",
        "    attention_mask_sentence.append(encoded_dict['attention_mask'])\n",
        "    \n",
        "    input_id_sentence = torch.cat(input_id_sentence, dim=0)\n",
        "    attention_mask_sentence = torch.cat(attention_mask_sentence, dim=0)\n",
        "\n",
        "    with torch.no_grad():\n",
        "        outputs = model(input_id_sentence, token_type_ids=None, attention_mask=attention_mask_sentence)\n",
        "\n",
        "    logits = outputs[0]\n",
        "\n",
        "    print(\"\\n The normalized probability for each class is\")\n",
        "    print(logits.softmax(dim=-1).tolist())\n",
        "    pred_class_prob = logits.softmax(dim=-1).tolist()\n",
        "\n",
        "    pred_label_from_prob = np.argmax(pred_class_prob)\n",
        "    print(f\"\\nThe predicted class is: {pred_label_from_prob}\")\n",
        "\n",
        "    return pred_label_from_prob"
      ],
      "execution_count": null,
      "outputs": []
    },
    {
      "cell_type": "code",
      "metadata": {
        "colab": {
          "base_uri": "https://localhost:8080/"
        },
        "id": "pc11DC9eJ8pQ",
        "outputId": "e5965917-9560-43b8-804a-7493337d0260"
      },
      "source": [
        "# Example #1\n",
        "text = \"\"\"\n",
        "You are bad\n",
        "\"\"\"\n",
        "print(classify_sentence(text))"
      ],
      "execution_count": null,
      "outputs": [
        {
          "output_type": "stream",
          "text": [
            "Truncation was not explicitly activated but `max_length` is provided a specific value, please use `truncation=True` to explicitly truncate examples to max length. Defaulting to 'longest_first' truncation strategy. If you encode pairs of sequences (GLUE-style) with the tokenizer you can select this strategy more precisely by providing a specific strategy to `truncation`.\n"
          ],
          "name": "stderr"
        },
        {
          "output_type": "stream",
          "text": [
            "\n",
            "The model can predict 2 different classes\n",
            "\n"
          ],
          "name": "stdout"
        },
        {
          "output_type": "stream",
          "text": [
            "/usr/local/lib/python3.7/dist-packages/transformers/tokenization_utils_base.py:2132: FutureWarning: The `pad_to_max_length` argument is deprecated and will be removed in a future version, use `padding=True` or `padding='longest'` to pad to the longest sequence in the batch, or use `padding='max_length'` to pad to a max length. In this case, you can give a specific length with `max_length` (e.g. `max_length=45`) or leave max_length to None to pad to the maximal input size of the model (e.g. 512 for Bert).\n",
            "  FutureWarning,\n"
          ],
          "name": "stderr"
        },
        {
          "output_type": "stream",
          "text": [
            "\n",
            " The normalized probability for each class is\n",
            "[[0.3133687376976013, 0.6866312026977539]]\n",
            "\n",
            "The predicted class is: 1\n",
            "1\n"
          ],
          "name": "stdout"
        }
      ]
    },
    {
      "cell_type": "markdown",
      "metadata": {
        "id": "SMAEffzUnKKk"
      },
      "source": [
        "##Method 2 to save and load model"
      ]
    },
    {
      "cell_type": "code",
      "metadata": {
        "cell_id": "00035-b2885ff3-093f-4a8d-be7a-8ca79dbcedc0",
        "tags": [],
        "colab": {
          "base_uri": "https://localhost:8080/"
        },
        "id": "EIizYYPp7Yd3",
        "outputId": "1b77398f-92eb-4c46-a6c8-58a908144798"
      },
      "source": [
        "MODEL_PATH = '/content/drive/MyDrive/Colab Notebooks/Hate-Speech-Detection/models/task1_model_by_epoch/model_english_epoch_'+str(epochs)\n",
        "print(MODEL_PATH)"
      ],
      "execution_count": null,
      "outputs": [
        {
          "output_type": "stream",
          "text": [
            "/content/drive/MyDrive/Colab Notebooks/Hate-Speech-Detection/models/task1_model_by_epoch/model_english_epoch_4\n"
          ],
          "name": "stdout"
        }
      ]
    },
    {
      "cell_type": "code",
      "metadata": {
        "cell_id": "00034-1956addd-ef03-4b88-ab34-d7be31f4907f",
        "tags": [],
        "id": "o--jjRQK7Yd4"
      },
      "source": [
        "torch.save(model, MODEL_PATH)"
      ],
      "execution_count": null,
      "outputs": []
    },
    {
      "cell_type": "code",
      "metadata": {
        "cell_id": "00036-ca8908c4-4ac9-4083-be05-5c99b5c1b8ac",
        "tags": [],
        "colab": {
          "base_uri": "https://localhost:8080/"
        },
        "id": "nBCD1hca7Yd4",
        "outputId": "f703b4d5-8459-4055-c8f2-01229473dc96"
      },
      "source": [
        "model = torch.load(MODEL_PATH+'4')"
      ],
      "execution_count": null,
      "outputs": [
        {
          "output_type": "stream",
          "text": [
            "/content/drive/MyDrive/Colab Notebooks/Hate-Speech-Detection/models/bert-base-en-task1-epoch-\n"
          ],
          "name": "stdout"
        }
      ]
    },
    {
      "cell_type": "markdown",
      "metadata": {
        "id": "6jZwOUoAS_IS"
      },
      "source": [
        "##Method 3 to save and load model\n",
        "\n",
        "https://programmer.help/blogs/transformers-saves-and-loads-the-model.html"
      ]
    },
    {
      "cell_type": "code",
      "metadata": {
        "id": "-C2hD8A8TGUw"
      },
      "source": [
        "import os\n",
        "\n",
        "output_dir = '/content/drive/MyDrive/Colab Notebooks/Hate-Speech-Detection/models/task1_model_with_state_dict'\n",
        "\n",
        "model_file_path = os.path.join(output_dir, \"model_file.bin\")\n",
        "config_file_path = os.path.join(output_dir, \"config_file.bin\")\n",
        "vocab_file_path = os.path.join(output_dir, \"vocab_file.bin\")\n",
        "\n",
        "# Step 1: save a fine tuned model, configuration, and glossary\n",
        "\n",
        "#If we have a distributed model, save only the encapsulated model\n",
        "#It is wrapped in PyTorch DistributedDataParallel or DataParallel\n",
        "\n",
        "model_to_save = model.module if hasattr(model, 'module') else model\n",
        "\n",
        "torch.save(model_to_save.state_dict(), model_file_path)\n",
        "\n",
        "model_to_save.config.to_json_file(config_file_path)\n",
        "\n",
        "tokenizer.save_vocabulary(vocab_file_path)\n",
        "\n",
        "# Step 2: reload the saved model\n",
        "\n",
        "config = BertConfig.from_json_file(config_file_path)\n",
        "\n",
        "model = BertForSequenceClassification(config)\n",
        "\n",
        "state_dict = torch.load(model_file_path)\n",
        "\n",
        "model.load_state_dict(state_dict)\n",
        "\n",
        "model.eval()\n",
        "\n",
        "tokenizer = BertTokenizer(vocab_file_path, do_lower_case=True)"
      ],
      "execution_count": null,
      "outputs": []
    },
    {
      "cell_type": "markdown",
      "metadata": {
        "id": "AkP0AcNZMifL"
      },
      "source": [
        "##Method 4 to save and load model\n",
        "\n",
        "https://huggingface.co/transformers/v1.0.0/model_doc/overview.html"
      ]
    },
    {
      "cell_type": "code",
      "metadata": {
        "id": "MynSbOFPMqII"
      },
      "source": [
        "import os\n",
        "from pytorch_pretrained_bert import WEIGHTS_NAME, CONFIG_NAME\n",
        "\n",
        "output_dir = \"/content/drive/MyDrive/Colab Notebooks/Hate-Speech-Detection/models/task1_model_saved_using_weights_name_config_name\"\n",
        "\n",
        "# Step 1: Save a model, configuration and vocabulary that you have fine-tuned\n",
        "\n",
        "# If we have a distributed model, save only the encapsulated model\n",
        "# (it was wrapped in PyTorch DistributedDataParallel or DataParallel)\n",
        "model_to_save = model.module if hasattr(model, 'module') else model\n",
        "\n",
        "# If we save using the predefined names, we can load using `from_pretrained`\n",
        "output_model_file = os.path.join(output_dir, WEIGHTS_NAME)\n",
        "output_config_file = os.path.join(output_dir, CONFIG_NAME)\n",
        "\n",
        "torch.save(model_to_save.state_dict(), output_model_file)\n",
        "model_to_save.config.to_json_file(output_config_file)\n",
        "tokenizer.save_vocabulary(output_dir)\n",
        "\n",
        "# Step 2: Re-load the saved model and vocabulary\n",
        "\n",
        "# Example for a Bert model\n",
        "model = BertForSequenceClassification.from_pretrained(output_dir)\n",
        "tokenizer = BertTokenizer.from_pretrained(output_dir)  # Add specific options if needed"
      ],
      "execution_count": null,
      "outputs": []
    },
    {
      "cell_type": "code",
      "metadata": {
        "id": "hfRSfZnmWgBu"
      },
      "source": [
        "from transformers import BertForSequenceClassification\n",
        "model = BertForSequenceClassification.from_pretrained(\n",
        "    \"bert-base-uncased\",          # Use the 12-layer BERT model, with an uncased vocab\n",
        "    num_labels = 2,               # The number of output labels--2 for binary classification\n",
        "    output_attentions = False,    # Whether the model returns attentions weights\n",
        "    output_hidden_states = False, # Whether the model returns all hidden-states\n",
        ")"
      ],
      "execution_count": null,
      "outputs": []
    }
  ]
}